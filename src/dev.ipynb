{
 "cells": [
  {
   "cell_type": "code",
   "execution_count": 1,
   "metadata": {},
   "outputs": [],
   "source": [
    "import os \n",
    "import torch\n",
    "import numpy as np\n",
    "import pandas as pd\n",
    "import torch.nn as nn \n",
    "import torch.nn.functional as F\n",
    "from transformers import AutoTokenizer, AutoModel\n",
    "from utils.manager import Manager\n",
    "from utils.util import load_pickle, save_pickle, BM25"
   ]
  },
  {
   "cell_type": "code",
   "execution_count": 5,
   "metadata": {},
   "outputs": [
    {
     "name": "stderr",
     "output_type": "stream",
     "text": [
      "[2022-02-23 02:43:26,050] INFO (Manager) Hyper Parameters are:\n",
      "{'scale': 'large', 'batch_size': 2, 'batch_size_encode': 2, 'dropout_p': 0.1, 'seed': 3407, 'world_size': 1, 'checkpoint': 'best', 'his_size': 50, 'impr_size': 20, 'negative_num': 4, 'title_length': 32, 'abs_length': 64, 'plm': 'bert', 'enable_fields': ['abs'], 'enable_gate': 'weight', 'verbose': None, 'sequence_length': 64}\n",
      "\n",
      "[2022-02-23 02:43:26,053] INFO (MIND_Test) Loading Cache at MINDlarge_test\n",
      "[2022-02-23 02:44:17,011] INFO (MIND_News) Loading Cache at MINDlarge_test\n"
     ]
    }
   ],
   "source": [
    "class config:\n",
    "    epochs = 10\n",
    "    scale = \"large\"\n",
    "    mode = \"test\"\n",
    "    device = 0\n",
    "    batch_size = 2\n",
    "    batch_size_encode = 2\n",
    "    dropout_p = 0.1\n",
    "    seed = 3407\n",
    "    world_size = 1\n",
    "    checkpoint = \"best\"\n",
    "\n",
    "    data_root = \"../../../Data\"\n",
    "    cache_root = \"data/cache\"\n",
    "\n",
    "    his_size = 50\n",
    "    impr_size = 20\n",
    "    negative_num = 4\n",
    "\n",
    "    max_title_length = 64\n",
    "    max_abs_length = 256\n",
    "    title_length = 32\n",
    "    abs_length = 64\n",
    "\n",
    "    plm = \"bert\"\n",
    "\n",
    "    enable_fields = [\"abs\"]\n",
    "    enable_gate = \"weight\"\n",
    "    # enable_gate = \"bm25\"\n",
    "\n",
    "    rank = 0\n",
    "    verbose = None\n",
    "    distributed = False\n",
    "    debug = False\n",
    "\n",
    "manager = Manager(config, notebook=True)\n",
    "loaders = manager.prepare()"
   ]
  },
  {
   "cell_type": "code",
   "execution_count": 3,
   "metadata": {},
   "outputs": [],
   "source": [
    "t = AutoTokenizer.from_pretrained(manager.plm_dir)\n",
    "# m = AutoModel.from_pretrained(manager.plm_dir).to(0)"
   ]
  },
  {
   "cell_type": "code",
   "execution_count": 6,
   "metadata": {},
   "outputs": [
    {
     "data": {
      "text/plain": [
       "(0,\n",
       " ['N101071',\n",
       "  'N15647',\n",
       "  'N83400',\n",
       "  'N124838',\n",
       "  'N57092',\n",
       "  'N64623',\n",
       "  'N62785',\n",
       "  'N112133',\n",
       "  'N98744',\n",
       "  'N55764',\n",
       "  'N16531',\n",
       "  'N54103',\n",
       "  'N128905',\n",
       "  'N2296',\n",
       "  'N45689',\n",
       "  'N87027'])"
      ]
     },
     "execution_count": 6,
     "metadata": {},
     "output_type": "execute_result"
    }
   ],
   "source": [
    "loaders[\"test\"].dataset.imprs[0]"
   ]
  },
  {
   "cell_type": "code",
   "execution_count": 16,
   "metadata": {},
   "outputs": [],
   "source": [
    "loader_train = loaders[\"train\"]\n",
    "loader_dev = loaders[\"dev\"]\n",
    "loader_news = loaders[\"news\"]\n",
    "\n",
    "dataset_train = loader_train.dataset\n",
    "dataset_dev = loader_dev.dataset\n",
    "dataset_news = loader_news.dataset\n",
    "\n",
    "X1 = iter(loader_train)\n",
    "X2 = iter(loader_dev)\n",
    "X3 = iter(loader_news)\n",
    "x = next(X1)\n",
    "x2 = next(X2)\n",
    "x3 = next(X3)"
   ]
  },
  {
   "cell_type": "code",
   "execution_count": 14,
   "metadata": {},
   "outputs": [
    {
     "ename": "NameError",
     "evalue": "name 't' is not defined",
     "output_type": "error",
     "traceback": [
      "\u001b[0;31m---------------------------------------------------------------------------\u001b[0m",
      "\u001b[0;31mNameError\u001b[0m                                 Traceback (most recent call last)",
      "\u001b[0;32m/tmp/ipykernel_59319/3800590075.py\u001b[0m in \u001b[0;36m<module>\u001b[0;34m\u001b[0m\n\u001b[1;32m      2\u001b[0m \u001b[0mindex\u001b[0m \u001b[0;34m=\u001b[0m \u001b[0;36m1\u001b[0m\u001b[0;34m\u001b[0m\u001b[0;34m\u001b[0m\u001b[0m\n\u001b[1;32m      3\u001b[0m \u001b[0mcdd_token_id\u001b[0m \u001b[0;34m=\u001b[0m \u001b[0mx3\u001b[0m\u001b[0;34m[\u001b[0m\u001b[0;34m'cdd_token_id'\u001b[0m\u001b[0;34m]\u001b[0m\u001b[0;34m[\u001b[0m\u001b[0mindex\u001b[0m\u001b[0;34m]\u001b[0m\u001b[0;34m\u001b[0m\u001b[0;34m\u001b[0m\u001b[0m\n\u001b[0;32m----> 4\u001b[0;31m \u001b[0mt\u001b[0m\u001b[0;34m.\u001b[0m\u001b[0mdecode\u001b[0m\u001b[0;34m(\u001b[0m\u001b[0mcdd_token_id\u001b[0m\u001b[0;34m,\u001b[0m \u001b[0mskip_special_tokens\u001b[0m\u001b[0;34m=\u001b[0m\u001b[0;32mTrue\u001b[0m\u001b[0;34m)\u001b[0m\u001b[0;34m\u001b[0m\u001b[0;34m\u001b[0m\u001b[0m\n\u001b[0m",
      "\u001b[0;31mNameError\u001b[0m: name 't' is not defined"
     ]
    }
   ],
   "source": [
    "# check news\n",
    "index = 1\n",
    "cdd_token_id = x3['cdd_token_id'][index]\n",
    "t.decode(cdd_token_id, skip_special_tokens=True)"
   ]
  },
  {
   "cell_type": "code",
   "execution_count": 6,
   "metadata": {},
   "outputs": [
    {
     "name": "stdout",
     "output_type": "stream",
     "text": [
      "                a g\n",
      "[CLS]           1 0\n",
      "what            1 1\n",
      "you             1 1\n",
      "need            1 1\n",
      "to              1 1\n",
      "know            1 1\n",
      "about           1 1\n",
      "the             1 1\n",
      "c               1 1\n",
      "##8             1 1\n",
      "corvette        1 1\n",
      "'               1 1\n",
      "s               1 1\n",
      "new             1 1\n",
      "dual            1 1\n",
      "-               1 1\n",
      "clutch          1 1\n",
      "transmission    1 1\n",
      "[SEP]           1 0\n",
      "the             1 1\n",
      "new             1 1\n",
      "corvette        1 1\n",
      "has             1 1\n",
      "an              1 1\n",
      "eight           1 1\n",
      "-               1 1\n",
      "speed           1 1\n",
      "tre             1 1\n",
      "##me            1 1\n",
      "##c             1 1\n",
      "dc              1 1\n",
      "##t             1 1\n",
      ".               1 1\n",
      "we              1 1\n",
      "weren           1 1\n",
      "'               1 1\n",
      "t               1 1\n",
      "crazy           1 1\n",
      "about           1 1\n",
      "it              1 1\n",
      "in              1 1\n",
      "the             1 1\n",
      "pre             1 1\n",
      "-               1 1\n",
      "production      1 1\n",
      "c               1 1\n",
      "##8             1 1\n",
      "we              1 1\n",
      "drove           1 1\n",
      ",               1 1\n",
      "but             1 1\n",
      "engineers       1 1\n",
      "tell            1 1\n",
      "us              1 1\n",
      "the             1 1\n",
      "final           1 1\n",
      "version         1 1\n",
      "will            1 1\n",
      "be              1 1\n",
      "better          1 1\n",
      ".               1 1\n",
      "[SEP]           1 0\n",
      "[PAD]           0 0\n"
     ]
    }
   ],
   "source": [
    "# check gate mask\n",
    "index = (0, 0)\n",
    "cdd_token_id = x['cdd_token_id'][index]\n",
    "cdd_attn_mask = x[\"cdd_attn_mask\"][index]\n",
    "cdd_gate_mask = x[\"cdd_gate_mask\"][index]\n",
    "his_token_id = x[\"his_token_id\"][index]\n",
    "his_attn_mask = x[\"his_attn_mask\"][index]\n",
    "his_gate_mask = x[\"his_gate_mask\"][index]\n",
    "\n",
    "cdd_token = t.convert_ids_to_tokens(cdd_token_id)\n",
    "his_token = t.convert_ids_to_tokens(his_token_id)\n",
    "\n",
    "line = \"{:15} a g\".format(\" \"*15)\n",
    "print(line)\n",
    "for i in range(manager.sequence_length):\n",
    "    line = \"{:15} {} {}\".format(cdd_token[i], cdd_attn_mask[i], cdd_gate_mask[i])\n",
    "    print(line)\n",
    "    if cdd_token[i] == \"[PAD]\":\n",
    "        break"
   ]
  },
  {
   "cell_type": "code",
   "execution_count": null,
   "metadata": {},
   "outputs": [],
   "source": [
    "# check train loader result\n",
    "nid2index = load_pickle(\"/data/v-pezhang/Code/GateFormer/src/data/cache/MIND/MINDdemo_train/news/nid2index.pkl\")\n",
    "uid2index = load_pickle(\"/data/v-pezhang/Code/GateFormer/src/data/cache/MIND/uid2index.pkl\")\n",
    "nindex2id = {v:k for k,v in nid2index.items()}\n",
    "uindex2id = {v:k for k,v in uid2index.items()}\n",
    "\n",
    "# check behaviors.tsv\n",
    "print([uindex2id[i] for i in x[\"user_index\"].tolist()], (x[\"impr_index\"] + 1).tolist())\n",
    "# check news.tsv\n",
    "print([nindex2id[i] for i in x[\"cdd_idx\"][0][:5].tolist()])\n",
    "print(t.batch_decode(x[\"cdd_token_id\"][0][:5], skip_special_tokens=True))\n",
    "\n",
    "print([nindex2id[i] for i in x[\"his_idx\"][0][:5].tolist()])\n",
    "print(t.batch_decode(x[\"his_token_id\"][0][:5], skip_special_tokens=True))"
   ]
  },
  {
   "cell_type": "code",
   "execution_count": null,
   "metadata": {},
   "outputs": [],
   "source": [
    "# check dev loader result\n",
    "nid2index = load_pickle(\"/data/v-pezhang/Code/GateFormer/src/data/cache/MIND/MINDdemo_dev/news/nid2index.pkl\")\n",
    "uid2index = load_pickle(\"/data/v-pezhang/Code/GateFormer/src/data/cache/MIND/uid2index.pkl\")\n",
    "nindex2id = {v:k for k,v in nid2index.items()}\n",
    "uindex2id = {v:k for k,v in uid2index.items()}\n",
    "\n",
    "# check behaviors.tsv\n",
    "print([uindex2id[i] for i in x2[\"user_index\"].tolist()], (x2[\"impr_index\"] + 1).tolist())\n",
    "# check news.tsv\n",
    "print([nindex2id[i] for i in x2[\"cdd_idx\"][0][:5].tolist()])\n",
    "print(t.batch_decode(x2[\"cdd_token_id\"][0][:5], skip_special_tokens=True))\n",
    "\n",
    "print([nindex2id[i] for i in x2[\"his_idx\"][0][:5].tolist()])\n",
    "print(t.batch_decode(x2[\"his_token_id\"][0][:5], skip_special_tokens=True))"
   ]
  },
  {
   "cell_type": "code",
   "execution_count": null,
   "metadata": {},
   "outputs": [],
   "source": []
  }
 ],
 "metadata": {
  "interpreter": {
   "hash": "a256a4def3bbb1bd6a1d46703c4995443a919758d62b261face579c969ba8076"
  },
  "kernelspec": {
   "display_name": "Python 3.9.7 64-bit ('nn': conda)",
   "language": "python",
   "name": "python3"
  },
  "language_info": {
   "codemirror_mode": {
    "name": "ipython",
    "version": 3
   },
   "file_extension": ".py",
   "mimetype": "text/x-python",
   "name": "python",
   "nbconvert_exporter": "python",
   "pygments_lexer": "ipython3",
   "version": "3.9.7"
  },
  "orig_nbformat": 4
 },
 "nbformat": 4,
 "nbformat_minor": 2
}
