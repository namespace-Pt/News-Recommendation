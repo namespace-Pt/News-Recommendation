{
 "metadata": {
  "language_info": {
   "codemirror_mode": {
    "name": "ipython",
    "version": 3
   },
   "file_extension": ".py",
   "mimetype": "text/x-python",
   "name": "python",
   "nbconvert_exporter": "python",
   "pygments_lexer": "ipython3",
   "version": "3.8.5-final"
  },
  "orig_nbformat": 2,
  "kernelspec": {
   "name": "python38564bitnncondad67fb259925d4833a703b0467175fd55",
   "display_name": "Python 3.8.5 64-bit ('nn': conda)"
  },
  "metadata": {
   "interpreter": {
    "hash": "3eb98a31bb4fe483f921d6d3a56a708e0ea8295072fddff1b0a8d949ab7fd102"
   }
  }
 },
 "nbformat": 4,
 "nbformat_minor": 2,
 "cells": [
  {
   "cell_type": "code",
   "execution_count": 1,
   "metadata": {},
   "outputs": [],
   "source": [
    "import os\n",
    "import sys\n",
    "os.chdir('../')\n",
    "sys.path.append('../')\n",
    "\n",
    "import torch\n",
    "from utils.utils import evaluate,train,prepare\n",
    "from models.NRMS import NRMSModel\n",
    "from configs.ManualConfig import hparams"
   ]
  },
  {
   "cell_type": "code",
   "execution_count": 2,
   "metadata": {},
   "outputs": [],
   "source": [
    "hparams['name'] = 'nrms'\n",
    "hparams['device'] = 'cuda:0'"
   ]
  },
  {
   "cell_type": "code",
   "execution_count": 3,
   "metadata": {},
   "outputs": [
    {
     "output_type": "stream",
     "name": "stderr",
     "text": [
      "[2021-04-17 11:02:28,076] INFO (root) Hyper Parameters are\n",
      "{'scale': 'demo', 'mode': 'train', 'batch_size': 10, 'title_size': 20, 'abs_size': 40, 'his_size': 50, 'npratio': 4, 'dropout_p': 0.2, 'query_dim': 200, 'embedding_dim': 300, 'value_dim': 16, 'head_num': 16, 'epochs': 8, 'metrics': 'auc,mean_mrr,ndcg@5,ndcg@10', 'device': 'cuda:0', 'attrs': ['title'], 'k': 0, 'select': None, 'save_step': [0], 'news_id': False, 'validate': False, 'interval': 10, 'spadam': True, 'name': 'nrms'}\n",
      "[2021-04-17 11:02:28,077] INFO (root) preparing dataset...\n",
      "[2021-04-17 11:02:31,922] INFO (torchtext.vocab) Loading vectors from .vector_cache/glove.840B.300d.txt.pt\n"
     ]
    }
   ],
   "source": [
    "vocab, loaders = prepare(hparams)"
   ]
  },
  {
   "cell_type": "code",
   "execution_count": 4,
   "metadata": {},
   "outputs": [],
   "source": [
    "record = next(iter(loaders[0]))"
   ]
  },
  {
   "cell_type": "code",
   "execution_count": 4,
   "metadata": {},
   "outputs": [],
   "source": [
    "nrmsModel = NRMSModel(hparams=hparams, vocab=vocab).to(hparams['device'])"
   ]
  },
  {
   "cell_type": "code",
   "execution_count": 55,
   "metadata": {},
   "outputs": [
    {
     "output_type": "stream",
     "name": "stdout",
     "text": [
      "torch.Size([5, 50, 256]) torch.Size([5, 5, 256]) torch.Size([5, 256])\n"
     ]
    },
    {
     "output_type": "execute_result",
     "data": {
      "text/plain": [
       "tensor([[-1.5982, -1.6332, -1.6183, -1.6070, -1.5911],\n",
       "        [-1.6151, -1.5789, -1.6114, -1.6313, -1.6112],\n",
       "        [-1.6132, -1.6058, -1.6396, -1.5953, -1.5940],\n",
       "        [-1.5935, -1.6218, -1.6280, -1.6071, -1.5973],\n",
       "        [-1.6085, -1.6076, -1.6081, -1.6122, -1.6108]],\n",
       "       grad_fn=<LogSoftmaxBackward>)"
      ]
     },
     "metadata": {},
     "execution_count": 55
    }
   ],
   "source": [
    "nrmsModel(record)"
   ]
  },
  {
   "cell_type": "code",
   "execution_count": 5,
   "metadata": {},
   "outputs": [
    {
     "output_type": "stream",
     "name": "stderr",
     "text": [
      "[2021-04-17 11:02:47,881] INFO (root) training...\n",
      "epoch 1 , step 290 , loss: 1.5714: : 295it [00:10, 27.26it/s]\n",
      "[2021-04-17 11:03:00,628] INFO (root) saved model of step 0, epoch 1 at data/model_params/nrms/demo_epoch1_step0_[hs=50,topk=0,attrs=title].model\n",
      "epoch 2 , step 290 , loss: 1.4784: : 295it [00:09, 30.59it/s]\n",
      "[2021-04-17 11:03:12,364] INFO (root) saved model of step 0, epoch 2 at data/model_params/nrms/demo_epoch2_step0_[hs=50,topk=0,attrs=title].model\n",
      "epoch 3 , step 290 , loss: 1.4055: : 295it [00:09, 30.50it/s]\n",
      "[2021-04-17 11:03:24,063] INFO (root) saved model of step 0, epoch 3 at data/model_params/nrms/demo_epoch3_step0_[hs=50,topk=0,attrs=title].model\n",
      "epoch 4 , step 290 , loss: 1.3417: : 295it [00:09, 29.79it/s]\n",
      "[2021-04-17 11:03:35,954] INFO (root) saved model of step 0, epoch 4 at data/model_params/nrms/demo_epoch4_step0_[hs=50,topk=0,attrs=title].model\n",
      "epoch 5 , step 290 , loss: 1.2893: : 295it [00:09, 31.98it/s]\n",
      "[2021-04-17 11:03:47,236] INFO (root) saved model of step 0, epoch 5 at data/model_params/nrms/demo_epoch5_step0_[hs=50,topk=0,attrs=title].model\n",
      "epoch 6 , step 290 , loss: 1.2401: : 295it [00:09, 31.51it/s]\n",
      "[2021-04-17 11:03:58,621] INFO (root) saved model of step 0, epoch 6 at data/model_params/nrms/demo_epoch6_step0_[hs=50,topk=0,attrs=title].model\n",
      "epoch 7 , step 290 , loss: 1.1938: : 295it [00:09, 32.18it/s]\n",
      "[2021-04-17 11:04:10,034] INFO (root) saved model of step 0, epoch 7 at data/model_params/nrms/demo_epoch7_step0_[hs=50,topk=0,attrs=title].model\n",
      "epoch 8 , step 290 , loss: 1.1385: : 295it [00:09, 30.53it/s]\n",
      "[2021-04-17 11:04:21,696] INFO (root) saved model of step 0, epoch 8 at data/model_params/nrms/demo_epoch8_step0_[hs=50,topk=0,attrs=title].model\n",
      "[2021-04-17 11:04:22,037] INFO (root) evaluating...\n",
      "1812it [00:18, 100.41it/s]\n",
      "[2021-04-17 11:04:41,119] INFO (root) evaluation results:{'auc': 0.565, 'mean_mrr': 0.2446, 'ndcg@5': 0.2547, 'ndcg@10': 0.331, 'epoch': 8, 'step': 0}\n"
     ]
    },
    {
     "output_type": "execute_result",
     "data": {
      "text/plain": [
       "NRMSModel(\n",
       "  (encoder): MHA_Encoder(\n",
       "    (embedding): Embedding(107392, 300, sparse=True)\n",
       "    (MHA): MultiheadAttention(\n",
       "      (out_proj): _LinearWithBias(in_features=256, out_features=256, bias=True)\n",
       "    )\n",
       "    (queryProject): Linear(in_features=300, out_features=256, bias=True)\n",
       "    (keyProject): Linear(in_features=256, out_features=200, bias=True)\n",
       "    (DropOut): Dropout(p=0.2, inplace=False)\n",
       "  )\n",
       "  (user_encoder): MHA_User_Encoder(\n",
       "    (MHA): MultiheadAttention(\n",
       "      (out_proj): _LinearWithBias(in_features=256, out_features=256, bias=True)\n",
       "    )\n",
       "    (keyProject): Linear(in_features=256, out_features=200, bias=True)\n",
       "    (DropOut): Dropout(p=0.2, inplace=False)\n",
       "  )\n",
       ")"
      ]
     },
     "metadata": {},
     "execution_count": 5
    }
   ],
   "source": [
    "train(nrmsModel, hparams, loaders)"
   ]
  },
  {
   "cell_type": "code",
   "execution_count": null,
   "metadata": {},
   "outputs": [],
   "source": []
  }
 ]
}