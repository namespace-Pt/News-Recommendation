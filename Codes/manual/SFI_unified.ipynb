{
 "metadata": {
  "language_info": {
   "codemirror_mode": {
    "name": "ipython",
    "version": 3
   },
   "file_extension": ".py",
   "mimetype": "text/x-python",
   "name": "python",
   "nbconvert_exporter": "python",
   "pygments_lexer": "ipython3",
   "version": "3.8.5-final"
  },
  "orig_nbformat": 2,
  "kernelspec": {
   "name": "python38564bitnncondad67fb259925d4833a703b0467175fd55",
   "display_name": "Python 3.8.5 64-bit"
  },
  "metadata": {
   "interpreter": {
    "hash": "3eb98a31bb4fe483f921d6d3a56a708e0ea8295072fddff1b0a8d949ab7fd102"
   }
  }
 },
 "nbformat": 4,
 "nbformat_minor": 2,
 "cells": [
  {
   "cell_type": "code",
   "execution_count": 1,
   "metadata": {},
   "outputs": [],
   "source": [
    "import os\n",
    "import sys\n",
    "os.chdir('../')\n",
    "sys.path.append('../')\n",
    "\n",
    "import torch\n",
    "from utils.utils import train,prepare,evaluate\n",
    "from models.Encoders.FIM import FIM_Encoder\n",
    "from models.Interactors import FIM_Interactor\n",
    "from models.SFI import SFI_unified\n",
    "from configs.ManualConfig import hparams"
   ]
  },
  {
   "cell_type": "code",
   "execution_count": 2,
   "metadata": {},
   "outputs": [],
   "source": [
    "hparams['name'] = 'sfi'\n",
    "hparams['select'] = 'unified'\n",
    "hparams['k'] = 10\n",
    "hparams['device'] = 'cuda:0'"
   ]
  },
  {
   "cell_type": "code",
   "execution_count": 3,
   "metadata": {},
   "outputs": [
    {
     "output_type": "stream",
     "name": "stderr",
     "text": [
      "[2021-04-19 16:59:42,422] INFO (root) Hyper Parameters are\n",
      "{'scale': 'demo', 'mode': 'train', 'batch_size': 10, 'title_size': 20, 'abs_size': 40, 'his_size': 30, 'vert_num': 18, 'subvert_num': 293, 'npratio': 4, 'dropout_p': 0.2, 'query_dim': 200, 'embedding_dim': 300, 'filter_num': 150, 'value_dim': 16, 'head_num': 16, 'epochs': 8, 'metrics': 'auc,mean_mrr,ndcg@5,ndcg@10', 'device': 'cuda:0', 'attrs': ['title'], 'k': 10, 'select': 'unified', 'save_step': [0], 'news_id': False, 'validate': False, 'interval': 10, 'spadam': True, 'onehot': False, 'name': 'sfi'}\n",
      "[2021-04-19 16:59:42,425] INFO (root) preparing dataset...\n",
      "[2021-04-19 16:59:46,311] INFO (torchtext.vocab) Loading vectors from .vector_cache/glove.840B.300d.txt.pt\n"
     ]
    }
   ],
   "source": [
    "vocab, loaders = prepare(hparams)"
   ]
  },
  {
   "cell_type": "code",
   "execution_count": 4,
   "metadata": {},
   "outputs": [],
   "source": [
    "record = next(iter(loaders[0]))"
   ]
  },
  {
   "cell_type": "code",
   "execution_count": 5,
   "metadata": {},
   "outputs": [
    {
     "output_type": "stream",
     "name": "stderr",
     "text": [
      "/home/peitian_zhang/anaconda3/envs/nn/lib/python3.8/site-packages/torch/nn/modules/rnn.py:58: UserWarning: dropout option adds dropout after all but last recurrent layer, so non-zero dropout expects num_layers greater than 1, but got dropout=0.2 and num_layers=1\n  warnings.warn(\"dropout option adds dropout after all but last \"\n"
     ]
    }
   ],
   "source": [
    "encoder = FIM_Encoder(hparams, vocab)\n",
    "interactor = FIM_Interactor()\n",
    "hparams['name'] = '-'.join([hparams['name'],hparams['select'],'fim',interactor.name])\n",
    "sfi = SFI_unified(hparams, encoder, interactor).to(hparams['device'])"
   ]
  },
  {
   "cell_type": "code",
   "execution_count": 6,
   "metadata": {},
   "outputs": [
    {
     "output_type": "execute_result",
     "data": {
      "text/plain": [
       "tensor([[-2.2131, -1.7967, -1.4670, -1.5024, -1.3035],\n",
       "        [-1.5420, -1.4997, -1.5298, -1.9242, -1.6080],\n",
       "        [-1.6073, -1.7635, -1.5281, -1.5721, -1.5917],\n",
       "        [-1.7914, -1.6697, -1.4239, -1.6020, -1.5960],\n",
       "        [-1.6786, -1.9920, -1.4564, -1.6708, -1.3635],\n",
       "        [-1.7540, -1.2544, -1.6796, -1.7539, -1.7030],\n",
       "        [-1.5683, -1.6042, -1.7248, -1.5517, -1.6071],\n",
       "        [-1.3372, -1.6989, -2.1053, -1.6095, -1.4578],\n",
       "        [-1.5293, -1.4227, -1.3967, -1.9654, -1.8660],\n",
       "        [-1.2732, -2.0724, -1.5820, -1.4167, -1.9234]], device='cuda:0',\n",
       "       grad_fn=<LogSoftmaxBackward>)"
      ]
     },
     "metadata": {},
     "execution_count": 6
    }
   ],
   "source": [
    "sfi(record)"
   ]
  },
  {
   "cell_type": "code",
   "execution_count": 7,
   "metadata": {},
   "outputs": [
    {
     "output_type": "stream",
     "name": "stderr",
     "text": [
      "[2021-04-19 17:00:01,753] INFO (root) training...\n",
      "epoch 1 , step 290 , loss: 1.5297: 100%|██████████| 295/295 [00:19<00:00, 15.25it/s]\n",
      "[2021-04-19 17:00:21,969] INFO (root) saved model of step 0, epoch 1 at data/model_params/sfi-unified-fim-fim/demo_epoch1_step0_[hs=30,topk=10,attrs=title].model\n",
      "epoch 2 , step 290 , loss: 1.4356: 100%|██████████| 295/295 [00:19<00:00, 15.30it/s]\n",
      "[2021-04-19 17:00:42,121] INFO (root) saved model of step 0, epoch 2 at data/model_params/sfi-unified-fim-fim/demo_epoch2_step0_[hs=30,topk=10,attrs=title].model\n",
      "epoch 3 , step 290 , loss: 1.3735: 100%|██████████| 295/295 [00:19<00:00, 15.13it/s]\n",
      "[2021-04-19 17:01:02,504] INFO (root) saved model of step 0, epoch 3 at data/model_params/sfi-unified-fim-fim/demo_epoch3_step0_[hs=30,topk=10,attrs=title].model\n",
      "epoch 4 , step 290 , loss: 1.2760: 100%|██████████| 295/295 [00:19<00:00, 15.34it/s]\n",
      "[2021-04-19 17:01:22,665] INFO (root) saved model of step 0, epoch 4 at data/model_params/sfi-unified-fim-fim/demo_epoch4_step0_[hs=30,topk=10,attrs=title].model\n",
      "epoch 5 , step 290 , loss: 1.1878: 100%|██████████| 295/295 [00:19<00:00, 15.35it/s]\n",
      "[2021-04-19 17:01:42,767] INFO (root) saved model of step 0, epoch 5 at data/model_params/sfi-unified-fim-fim/demo_epoch5_step0_[hs=30,topk=10,attrs=title].model\n",
      "epoch 6 , step 290 , loss: 1.0839: 100%|██████████| 295/295 [00:19<00:00, 15.33it/s]\n",
      "[2021-04-19 17:02:02,866] INFO (root) saved model of step 0, epoch 6 at data/model_params/sfi-unified-fim-fim/demo_epoch6_step0_[hs=30,topk=10,attrs=title].model\n",
      "epoch 7 , step 290 , loss: 0.9439: 100%|██████████| 295/295 [00:19<00:00, 15.20it/s]\n",
      "[2021-04-19 17:02:23,144] INFO (root) saved model of step 0, epoch 7 at data/model_params/sfi-unified-fim-fim/demo_epoch7_step0_[hs=30,topk=10,attrs=title].model\n",
      "epoch 8 , step 290 , loss: 0.7917: 100%|██████████| 295/295 [00:19<00:00, 15.26it/s]\n",
      "[2021-04-19 17:02:43,354] INFO (root) saved model of step 0, epoch 8 at data/model_params/sfi-unified-fim-fim/demo_epoch8_step0_[hs=30,topk=10,attrs=title].model\n",
      "[2021-04-19 17:02:43,874] INFO (root) evaluating...\n",
      "100%|██████████| 1812/1812 [00:33<00:00, 53.75it/s]\n",
      "[2021-04-19 17:03:18,136] INFO (root) evaluation results:{'auc': 0.5685, 'mean_mrr': 0.2678, 'ndcg@5': 0.2807, 'ndcg@10': 0.3416, 'epoch': 8, 'step': 0}\n"
     ]
    }
   ],
   "source": [
    "sfi = train(sfi, hparams, loaders)"
   ]
  }
 ]
}