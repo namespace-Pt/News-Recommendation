{
 "metadata": {
  "language_info": {
   "codemirror_mode": {
    "name": "ipython",
    "version": 3
   },
   "file_extension": ".py",
   "mimetype": "text/x-python",
   "name": "python",
   "nbconvert_exporter": "python",
   "pygments_lexer": "ipython3",
   "version": "3.8.5-final"
  },
  "orig_nbformat": 2,
  "kernelspec": {
   "name": "python38564bitnncondad67fb259925d4833a703b0467175fd55",
   "display_name": "Python 3.8.5 64-bit"
  },
  "metadata": {
   "interpreter": {
    "hash": "3eb98a31bb4fe483f921d6d3a56a708e0ea8295072fddff1b0a8d949ab7fd102"
   }
  }
 },
 "nbformat": 4,
 "nbformat_minor": 2,
 "cells": [
  {
   "cell_type": "code",
   "execution_count": 1,
   "metadata": {},
   "outputs": [],
   "source": [
    "import os\n",
    "import sys\n",
    "os.chdir('../')\n",
    "sys.path.append('../')\n",
    "\n",
    "import torch\n",
    "from utils.utils import train,prepare,pipeline_encode,load\n",
    "from models.Encoders import Encoder_Wrapper, FIM_Encoder"
   ]
  },
  {
   "cell_type": "code",
   "execution_count": 2,
   "metadata": {},
   "outputs": [],
   "source": [
    "hparams = {\n",
    "    'scale':'large',\n",
    "    'mode':'train',\n",
    "    'k':30,\n",
    "    'batch_size':100,\n",
    "    'title_size':20,\n",
    "    'his_size':50,\n",
    "    'npratio':4,\n",
    "    'dropout_p':0.2,\n",
    "    'embedding_dim':300,\n",
    "    'filter_num':150,\n",
    "    'device':'cpu',\n",
    "    'attrs':['title']\n",
    "}"
   ]
  },
  {
   "cell_type": "code",
   "execution_count": 3,
   "metadata": {},
   "outputs": [
    {
     "output_type": "stream",
     "name": "stderr",
     "text": [
      "[2021-04-06 12:13:52,925] INFO (root) Hyper Parameters are\n",
      "{'scale': 'large', 'mode': 'train', 'k': 30, 'batch_size': 100, 'title_size': 20, 'his_size': 50, 'npratio': 4, 'dropout_p': 0.2, 'embedding_dim': 300, 'filter_num': 150, 'device': 'cpu', 'attrs': ['title']}\n",
      "[2021-04-06 12:13:52,926] INFO (root) preparing dataset...\n",
      "[2021-04-06 12:13:53,145] INFO (torchtext.vocab) Loading vectors from .vector_cache/glove.840B.300d.txt.pt\n"
     ]
    }
   ],
   "source": [
    "vocab, loaders = prepare(hparams, news=True)"
   ]
  },
  {
   "cell_type": "code",
   "execution_count": 4,
   "metadata": {},
   "outputs": [
    {
     "output_type": "stream",
     "name": "stderr",
     "text": [
      "[2021-04-06 12:14:00,656] INFO (root) Loading model from data/model_params/sfi-fim-gating/large_epoch3_step16000_[hs=50,topk=30].model...\n"
     ]
    }
   ],
   "source": [
    "encoder = FIM_Encoder(hparams, vocab)\n",
    "Encoder_Wrapper = Encoder_Wrapper(hparams, encoder).to(hparams['device'])\n",
    "\n",
    "hparams['name'] = 'sfi-fim-gating'\n",
    "load(Encoder_Wrapper, hparams, 3, 16000, pipeline=True)"
   ]
  },
  {
   "cell_type": "code",
   "execution_count": 5,
   "metadata": {},
   "outputs": [
    {
     "output_type": "stream",
     "name": "stderr",
     "text": [
      "100%|██████████| 1016/1016 [08:45<00:00,  1.93it/s]\n",
      "100%|██████████| 721/721 [10:14<00:00,  1.17it/s]\n",
      "100%|██████████| 1210/1210 [16:19<00:00,  1.23it/s]\n",
      "[2021-04-06 12:50:16,252] INFO (root) successfully encoded news!\n"
     ]
    }
   ],
   "source": [
    "pipeline_encode(Encoder_Wrapper, hparams, loaders)"
   ]
  },
  {
   "cell_type": "code",
   "execution_count": null,
   "metadata": {},
   "outputs": [],
   "source": []
  }
 ]
}