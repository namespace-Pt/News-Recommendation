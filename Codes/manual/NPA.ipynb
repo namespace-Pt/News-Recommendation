{
 "metadata": {
  "language_info": {
   "codemirror_mode": {
    "name": "ipython",
    "version": 3
   },
   "file_extension": ".py",
   "mimetype": "text/x-python",
   "name": "python",
   "nbconvert_exporter": "python",
   "pygments_lexer": "ipython3",
   "version": "3.8.5-final"
  },
  "orig_nbformat": 2,
  "kernelspec": {
   "name": "python3",
   "display_name": "Python 3",
   "language": "python"
  }
 },
 "nbformat": 4,
 "nbformat_minor": 2,
 "cells": [
  {
   "cell_type": "code",
   "execution_count": 1,
   "metadata": {},
   "outputs": [],
   "source": [
    "import os\n",
    "import sys\n",
    "os.chdir('/home/peitian_zhang/Codes/News-Recommendation')\n",
    "sys.path.append('/home/peitian_zhang/Codes/News-Recommendation')\n",
    "\n",
    "import torch\n",
    "from utils.utils import evaluate,train,prepare,load_hparams\n",
    "from models.NPA import NPAModel\n",
    "from configs.ManualConfig import hparams"
   ]
  },
  {
   "cell_type": "markdown",
   "metadata": {},
   "source": [
    "## setting up the *NPA* model\n",
    "\n",
    "### define paths and hyperparameters, load data\n",
    "\n",
    "all these hyper parameters are fixed according to the paper [\\[23\\] Npa Neural news recommendation with personalized attention](https://dl.acm.org/doi/abs/10.1145/3292500.3330665)\n",
    "\n",
    "- *mode*: data to read (*demo*/*small*/*large*)\n",
    "\n",
    "- *batch_size*: size of each minibatch\n",
    "\n",
    "- *title_size*: max word capacity of title\n",
    "\n",
    "- *his_size*: max record capacity of click history\n",
    "\n",
    "- *npratio*: number of negtive sampling\n",
    "\n",
    "- *dropout_p*: probability of dropout layer\n",
    "\n",
    "- *filter_num*: number of kernels in 1D CNN, which is also embedding dimension of news/user\n",
    "\n",
    "- *embedding_dim*: word embedding dimension\n",
    "\n",
    "- *user_dim*: user id embedding dimension\n",
    "\n",
    "- *preference_dim*: user preference embedding dimension"
   ]
  },
  {
   "cell_type": "code",
   "execution_count": 2,
   "metadata": {},
   "outputs": [],
   "source": [
    "hparams['filter_num'] = 400"
   ]
  },
  {
   "cell_type": "code",
   "execution_count": 3,
   "metadata": {},
   "outputs": [
    {
     "output_type": "stream",
     "name": "stderr",
     "text": [
      "[2021-03-21 13:23:15,656] INFO (root) Hyper Parameters are\n",
      "{'name': 'npa', 'epochs': 1, 'scale': 'demo', 'mode': 'train', 'batch_size': 5, 'title_size': 20, 'his_size': 50, 'npratio': 4, 'dropout_p': 0.2, 'filter_num': 400, 'embedding_dim': 300, 'preference_dim': 200, 'user_dim': 50, 'metrics': 'auc,mean_mrr,ndcg@5,ndcg@10', 'attrs': ['title'], 'device': 'cuda:0', 'k': -1, 'save_step': [0]}\n",
      "[2021-03-21 13:23:15,658] INFO (root) preparing dataset...\n",
      "[2021-03-21 13:23:18,097] INFO (torchtext.vocab) Loading vectors from .vector_cache/glove.840B.300d.txt.pt\n"
     ]
    }
   ],
   "source": [
    "vocab, loaders = prepare(hparams)"
   ]
  },
  {
   "cell_type": "code",
   "execution_count": 4,
   "metadata": {},
   "outputs": [],
   "source": [
    "npaModel = NPAModel(vocab=vocab,hparams=hparams,user_num=len(loaders[0].dataset.uid2index)).to(hparams['device'])"
   ]
  },
  {
   "cell_type": "code",
   "execution_count": 6,
   "metadata": {},
   "outputs": [
    {
     "output_type": "stream",
     "name": "stderr",
     "text": [
      "[2021-03-21 09:53:20,871] INFO (root) training...\n",
      "epoch 1 , step 590 , loss: 1.5587: : 593it [00:21, 27.04it/s]\n",
      "[2021-03-21 09:53:43,555] INFO (root) saved model of epoch 1 at data/model_params/npa/demo_epoch1_step0_[hs=50,topk=-1].model\n",
      "[2021-03-21 09:53:43,621] INFO (root) evaluating...\n",
      "3625it [00:44, 81.10it/s]\n",
      "[2021-03-21 09:54:29,340] INFO (root) evaluation results:{'auc': 0.5564, 'mean_mrr': 0.2502, 'ndcg@5': 0.2662, 'ndcg@10': 0.3367, 'epoch': 1, 'step': 0}\n"
     ]
    },
    {
     "output_type": "execute_result",
     "data": {
      "text/plain": [
       "NPAModel(\n",
       "  (encoder): NPA_Encoder(\n",
       "    (embedding): Embedding(54076, 300)\n",
       "    (softmax): Softmax(dim=-1)\n",
       "    (user_embedding): Embedding(2426, 50)\n",
       "    (wordPrefProject): Linear(in_features=50, out_features=200, bias=True)\n",
       "    (wordQueryProject): Linear(in_features=200, out_features=400, bias=True)\n",
       "    (CNN): Conv1d(300, 400, kernel_size=(3,), stride=(1,), padding=(1,))\n",
       "    (RELU): ReLU()\n",
       "    (Tanh): Tanh()\n",
       "    (DropOut): Dropout(p=0.2, inplace=False)\n",
       "  )\n",
       "  (user_embedding): Embedding(2426, 50)\n",
       "  (newsPrefProject): Linear(in_features=50, out_features=200, bias=True)\n",
       "  (newsQueryProject): Linear(in_features=200, out_features=400, bias=True)\n",
       "  (RELU): ReLU()\n",
       "  (softmax): Softmax(dim=-1)\n",
       "  (Tanh): Tanh()\n",
       "  (DropOut): Dropout(p=0.2, inplace=False)\n",
       ")"
      ]
     },
     "metadata": {},
     "execution_count": 6
    }
   ],
   "source": [
    "train(npaModel, hparams, loaders, interval=10)"
   ]
  },
  {
   "cell_type": "code",
   "execution_count": null,
   "metadata": {},
   "outputs": [],
   "source": []
  }
 ]
}