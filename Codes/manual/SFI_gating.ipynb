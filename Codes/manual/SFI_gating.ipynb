{
 "metadata": {
  "language_info": {
   "codemirror_mode": {
    "name": "ipython",
    "version": 3
   },
   "file_extension": ".ipynb",
   "mimetype": "text/x-python",
   "name": "python",
   "nbconvert_exporter": "python",
   "pygments_lexer": "ipython3",
   "version": "3.8.5-final"
  },
  "orig_nbformat": 2,
  "kernelspec": {
   "name": "python38564bitnncondad67fb259925d4833a703b0467175fd55",
   "display_name": "Python 3.8.5 64-bit ('nn': conda)"
  },
  "metadata": {
   "interpreter": {
    "hash": "3eb98a31bb4fe483f921d6d3a56a708e0ea8295072fddff1b0a8d949ab7fd102"
   }
  }
 },
 "nbformat": 4,
 "nbformat_minor": 2,
 "cells": [
  {
   "cell_type": "code",
   "execution_count": 1,
   "metadata": {},
   "outputs": [],
   "source": [
    "import os\n",
    "import sys\n",
    "os.chdir('../')\n",
    "sys.path.append('../')\n",
    "\n",
    "import torch\n",
    "from utils.utils import train,prepare,evaluate,tune\n",
    "from models.Encoders import NRMS_Encoder, FIM_Encoder, NPA_Encoder, Pipeline_Encoder, MHA_Encoder, Bert_Encoder, RNN_Encoder, CNN_Encoder\n",
    "from models.Interactors import FIM_Interactor, KNRM_Interactor\n",
    "from models.SFI import SFI_gating, SFI_gating_MultiView"
   ]
  },
  {
   "cell_type": "code",
   "execution_count": 2,
   "metadata": {},
   "outputs": [],
   "source": [
    "name='sfi'\r\n",
    "hparams = {\r\n",
    "    'scale':'demo',\r\n",
    "    'mode':'tune',\r\n",
    "    'device':'cpu',\r\n",
    "    'epochs':5,\r\n",
    "    'val_freq':1,\r\n",
    "    'batch_size':3,\r\n",
    "    'his_size':50,\r\n",
    "    'k':50,\r\n",
    "    'threshold':0.5,\r\n",
    "    'contra_num':0,\r\n",
    "    'title_size':20,\r\n",
    "    'abs_size':40,\r\n",
    "    'npratio':4,\r\n",
    "    'dropout_p':0.2,\r\n",
    "    'embedding_dim':300,\r\n",
    "    'value_dim':16,\r\n",
    "    'query_dim':200,\r\n",
    "    'head_num':16,\r\n",
    "    'filter_num':150,\r\n",
    "    'select':'gating',\r\n",
    "    'level':1,\r\n",
    "    'metrics':'auc,mean_mrr,ndcg@5,ndcg@10',\r\n",
    "    # 'attrs': ['abs','vert','subvert'],\r\n",
    "    'attrs': ['title'],\r\n",
    "    'save_step':[0],\r\n",
    "    'spadam':True,\r\n",
    "    'interval':10,\r\n",
    "}\r\n",
    "# torch.cuda.set_device(hparams['device'])"
   ]
  },
  {
   "cell_type": "code",
   "execution_count": 7,
   "metadata": {},
   "outputs": [
    {
     "output_type": "stream",
     "name": "stderr",
     "text": [
      "[2021-04-16 16:01:51,839] INFO (root) Hyper Parameters are\n",
      "{'scale': 'demo', 'mode': 'tune', 'device': 'cpu', 'epochs': 5, 'val_freq': 1, 'batch_size': 3, 'his_size': 50, 'k': 50, 'threshold': 0.5, 'contra_num': 0, 'title_size': 20, 'abs_size': 40, 'npratio': 4, 'dropout_p': 0.2, 'embedding_dim': 300, 'value_dim': 16, 'query_dim': 200, 'head_num': 16, 'filter_num': 150, 'select': 'gating', 'level': 1, 'metrics': 'auc,mean_mrr,ndcg@5,ndcg@10', 'attrs': ['title'], 'save_step': [0], 'spadam': True, 'interval': 10, 'name': 'sfi-fim-encoder-gating'}\n",
      "[2021-04-16 16:01:51,841] INFO (root) preparing dataset...\n",
      "[2021-04-16 16:01:56,383] INFO (torchtext.vocab) Loading vectors from .vector_cache/glove.840B.300d.txt.pt\n"
     ]
    }
   ],
   "source": [
    "# hparams['validate'] = True\n",
    "vocab, loaders = prepare(hparams, pin_memory=False)"
   ]
  },
  {
   "cell_type": "code",
   "execution_count": 8,
   "metadata": {},
   "outputs": [],
   "source": [
    "record = next(iter(loaders[0]))"
   ]
  },
  {
   "cell_type": "code",
   "execution_count": 16,
   "metadata": {},
   "outputs": [
    {
     "output_type": "execute_result",
     "data": {
      "text/plain": [
       "<All keys matched successfully>"
      ]
     },
     "metadata": {},
     "execution_count": 16
    }
   ],
   "source": [
    "encoder = FIM_Encoder(hparams, vocab)\n",
    "interactor = FIM_Interactor()\n",
    "# interactor = KNRM_Interactor()\n",
    "\n",
    "hparams['name'] = '-'.join([name,encoder.name,hparams['select']])\n",
    "\n",
    "# sfi = SFI_gating_MultiView(hparams, encoder, interactor).to(hparams['device'])\n",
    "sfi = SFI_gating(hparams, encoder, interactor).to(hparams['device'])\n",
    "\n",
    "sfi.load_state_dict(torch.load('data/model_params/sfi-fim-fim-gating/large_epoch2_step16916_[hs=50,topk=50,contra=0,attrs=title].model', map_location=hparams['device'])['model'])"
   ]
  },
  {
   "cell_type": "code",
   "execution_count": 20,
   "metadata": {},
   "outputs": [
    {
     "output_type": "execute_result",
     "data": {
      "text/plain": [
       "tensor([[[False],\n",
       "         [False],\n",
       "         [False],\n",
       "         [False],\n",
       "         [False],\n",
       "         [False],\n",
       "         [False],\n",
       "         [False],\n",
       "         [False],\n",
       "         [False],\n",
       "         [False],\n",
       "         [False],\n",
       "         [False],\n",
       "         [False],\n",
       "         [False],\n",
       "         [False],\n",
       "         [False],\n",
       "         [False],\n",
       "         [False],\n",
       "         [False],\n",
       "         [False],\n",
       "         [False],\n",
       "         [False],\n",
       "         [False],\n",
       "         [False],\n",
       "         [False],\n",
       "         [False],\n",
       "         [False],\n",
       "         [False],\n",
       "         [False],\n",
       "         [False],\n",
       "         [False],\n",
       "         [False],\n",
       "         [False],\n",
       "         [False],\n",
       "         [False],\n",
       "         [False],\n",
       "         [False],\n",
       "         [False],\n",
       "         [False],\n",
       "         [False],\n",
       "         [False],\n",
       "         [False],\n",
       "         [False],\n",
       "         [False],\n",
       "         [False],\n",
       "         [False],\n",
       "         [False],\n",
       "         [False],\n",
       "         [False]],\n",
       "\n",
       "        [[False],\n",
       "         [False],\n",
       "         [False],\n",
       "         [False],\n",
       "         [False],\n",
       "         [False],\n",
       "         [False],\n",
       "         [False],\n",
       "         [False],\n",
       "         [False],\n",
       "         [False],\n",
       "         [False],\n",
       "         [False],\n",
       "         [False],\n",
       "         [False],\n",
       "         [False],\n",
       "         [False],\n",
       "         [False],\n",
       "         [False],\n",
       "         [False],\n",
       "         [False],\n",
       "         [False],\n",
       "         [False],\n",
       "         [False],\n",
       "         [False],\n",
       "         [False],\n",
       "         [False],\n",
       "         [False],\n",
       "         [False],\n",
       "         [False],\n",
       "         [False],\n",
       "         [False],\n",
       "         [False],\n",
       "         [False],\n",
       "         [False],\n",
       "         [False],\n",
       "         [False],\n",
       "         [False],\n",
       "         [False],\n",
       "         [False],\n",
       "         [False],\n",
       "         [False],\n",
       "         [False],\n",
       "         [False],\n",
       "         [False],\n",
       "         [False],\n",
       "         [False],\n",
       "         [False],\n",
       "         [False],\n",
       "         [False]],\n",
       "\n",
       "        [[False],\n",
       "         [False],\n",
       "         [False],\n",
       "         [False],\n",
       "         [False],\n",
       "         [False],\n",
       "         [False],\n",
       "         [False],\n",
       "         [False],\n",
       "         [False],\n",
       "         [False],\n",
       "         [False],\n",
       "         [False],\n",
       "         [False],\n",
       "         [False],\n",
       "         [False],\n",
       "         [False],\n",
       "         [False],\n",
       "         [False],\n",
       "         [False],\n",
       "         [False],\n",
       "         [False],\n",
       "         [False],\n",
       "         [False],\n",
       "         [False],\n",
       "         [False],\n",
       "         [False],\n",
       "         [False],\n",
       "         [False],\n",
       "         [False],\n",
       "         [False],\n",
       "         [False],\n",
       "         [False],\n",
       "         [False],\n",
       "         [False],\n",
       "         [False],\n",
       "         [False],\n",
       "         [False],\n",
       "         [False],\n",
       "         [False],\n",
       "         [False],\n",
       "         [False],\n",
       "         [False],\n",
       "         [False],\n",
       "         [False],\n",
       "         [False],\n",
       "         [False],\n",
       "         [False],\n",
       "         [False],\n",
       "         [False]]])"
      ]
     },
     "metadata": {},
     "execution_count": 20
    }
   ],
   "source": [
    "record['clicked_tit']"
   ]
  },
  {
   "cell_type": "code",
   "execution_count": 17,
   "metadata": {},
   "outputs": [
    {
     "output_type": "stream",
     "name": "stdout",
     "text": [
      "tensor([0.8245, 0.7307, 0.8135, 0.7637, 0.7833, 0.7387, 0.9513, 0.3759, 0.3761,\n        0.3755, 0.3765, 0.3791, 0.3763, 0.3771, 0.3763, 0.3794, 0.3749, 0.3760,\n        0.3742, 0.3761, 0.3776, 0.3762, 0.3766, 0.3785, 0.3742, 0.3750, 0.3760,\n        0.3751, 0.3757, 0.3772, 0.3746, 0.3758, 0.3765, 0.3789, 0.3744, 0.3754,\n        0.3770, 0.3768, 0.3747, 0.3739, 0.3758, 0.3788, 0.3756, 0.3745, 0.3744,\n        0.3764, 0.3756, 0.3753, 0.3744, 0.3743], grad_fn=<SelectBackward>) tensor([[[[3.1615e-01, 4.1319e-01, 5.2854e-01,  ..., 0.0000e+00,\n           5.6235e-01, 1.5901e-01],\n          [0.0000e+00, 5.1890e-01, 1.9741e-01,  ..., 0.0000e+00,\n           1.0225e+00, 0.0000e+00],\n          [0.0000e+00, 1.5739e-01, 1.1076e+00,  ..., 1.5680e+00,\n           6.1721e-02, 0.0000e+00]],\n\n         [[0.0000e+00, 5.5570e-01, 4.7069e-01,  ..., 0.0000e+00,\n           0.0000e+00, 0.0000e+00],\n          [0.0000e+00, 0.0000e+00, 3.6039e-01,  ..., 0.0000e+00,\n           6.1572e-01, 0.0000e+00],\n          [0.0000e+00, 3.2680e-01, 1.3178e-01,  ..., 0.0000e+00,\n           5.6340e-01, 0.0000e+00]],\n\n         [[0.0000e+00, 1.5850e-01, 4.0055e-02,  ..., 1.7067e-01,\n           3.1159e-01, 0.0000e+00],\n          [0.0000e+00, 0.0000e+00, 0.0000e+00,  ..., 1.0948e-01,\n           0.0000e+00, 0.0000e+00],\n          [0.0000e+00, 1.4818e+00, 3.4511e-01,  ..., 0.0000e+00,\n           0.0000e+00, 3.1744e-01]],\n\n         ...,\n\n         [[0.0000e+00, 5.9778e-01, 0.0000e+00,  ..., 2.0577e-01,\n           6.6082e-01, 8.3886e-01],\n          [1.0184e+00, 1.1354e+00, 0.0000e+00,  ..., 7.4065e-03,\n           0.0000e+00, 5.2288e-01],\n          [8.3499e-01, 0.0000e+00, 0.0000e+00,  ..., 8.9954e-01,\n           0.0000e+00, 1.6431e+00]],\n\n         [[0.0000e+00, 4.9559e-01, 0.0000e+00,  ..., 1.9193e-01,\n           5.8143e-01, 9.2845e-01],\n          [1.0394e+00, 1.0500e+00, 0.0000e+00,  ..., 0.0000e+00,\n           0.0000e+00, 6.4248e-01],\n          [8.1044e-01, 0.0000e+00, 0.0000e+00,  ..., 8.7559e-01,\n           0.0000e+00, 1.6466e+00]],\n\n         [[0.0000e+00, 5.1105e-01, 1.2416e-01,  ..., 3.3331e-01,\n           6.0826e-01, 7.8830e-01],\n          [1.0622e+00, 1.1105e+00, 0.0000e+00,  ..., 0.0000e+00,\n           0.0000e+00, 5.5550e-01],\n          [7.5804e-01, 0.0000e+00, 6.9361e-02,  ..., 8.7551e-01,\n           0.0000e+00, 1.7400e+00]]],\n\n\n        [[[0.0000e+00, 3.9295e-01, 0.0000e+00,  ..., 0.0000e+00,\n           2.8982e-02, 0.0000e+00],\n          [3.0863e-01, 0.0000e+00, 0.0000e+00,  ..., 1.1870e+00,\n           0.0000e+00, 7.2282e-01],\n          [0.0000e+00, 1.7480e+00, 8.0755e-01,  ..., 6.0032e-01,\n           0.0000e+00, 0.0000e+00]],\n\n         [[1.3440e+00, 2.2324e-01, 1.3362e+00,  ..., 0.0000e+00,\n           0.0000e+00, 7.1752e-01],\n          [0.0000e+00, 4.9847e-01, 1.4249e+00,  ..., 4.6110e-01,\n           1.2502e-01, 4.8482e-01],\n          [0.0000e+00, 6.3916e-01, 0.0000e+00,  ..., 3.6656e-01,\n           1.7631e-02, 0.0000e+00]],\n\n         [[1.6277e+00, 7.0086e-01, 1.0283e+00,  ..., 2.6337e-01,\n           0.0000e+00, 1.2889e+00],\n          [4.6944e-01, 0.0000e+00, 2.0666e-01,  ..., 4.2109e-01,\n           2.6482e-01, 7.1650e-01],\n          [0.0000e+00, 7.3808e-01, 0.0000e+00,  ..., 4.6732e-01,\n           3.9434e-01, 0.0000e+00]],\n\n         ...,\n\n         [[0.0000e+00, 4.4330e-01, 0.0000e+00,  ..., 2.4115e-01,\n           5.5081e-01, 8.5011e-01],\n          [8.4239e-01, 8.9231e-01, 0.0000e+00,  ..., 0.0000e+00,\n           0.0000e+00, 4.7725e-01],\n          [7.4598e-01, 0.0000e+00, 0.0000e+00,  ..., 7.3510e-01,\n           0.0000e+00, 1.4370e+00]],\n\n         [[0.0000e+00, 4.8191e-01, 0.0000e+00,  ..., 2.1169e-01,\n           4.9398e-01, 7.7332e-01],\n          [9.7988e-01, 1.0640e+00, 0.0000e+00,  ..., 0.0000e+00,\n           0.0000e+00, 4.9375e-01],\n          [6.2568e-01, 0.0000e+00, 6.2518e-02,  ..., 7.9379e-01,\n           0.0000e+00, 1.4831e+00]],\n\n         [[0.0000e+00, 4.1475e-01, 1.4471e-01,  ..., 2.0332e-01,\n           5.3488e-01, 8.2215e-01],\n          [8.5821e-01, 1.0251e+00, 0.0000e+00,  ..., 0.0000e+00,\n           0.0000e+00, 4.7825e-01],\n          [7.2900e-01, 0.0000e+00, 1.9427e-02,  ..., 7.3805e-01,\n           0.0000e+00, 1.4142e+00]]],\n\n\n        [[[0.0000e+00, 9.3773e-01, 1.1493e-01,  ..., 0.0000e+00,\n           1.7347e+00, 0.0000e+00],\n          [1.5722e-01, 9.3472e-01, 4.2065e-01,  ..., 0.0000e+00,\n           0.0000e+00, 0.0000e+00],\n          [0.0000e+00, 1.7084e+00, 1.1682e+00,  ..., 2.3443e-01,\n           1.9220e-01, 1.0190e+00]],\n\n         [[0.0000e+00, 1.2935e+00, 1.7792e-01,  ..., 0.0000e+00,\n           1.5385e+00, 0.0000e+00],\n          [0.0000e+00, 1.9240e-01, 2.8639e-01,  ..., 4.9121e-02,\n           0.0000e+00, 3.0573e-01],\n          [0.0000e+00, 1.4067e+00, 5.9916e-01,  ..., 2.6389e-01,\n           0.0000e+00, 0.0000e+00]],\n\n         [[1.9551e-01, 2.1725e-01, 5.8256e-01,  ..., 3.1771e-01,\n           9.6092e-01, 1.3210e+00],\n          [1.4899e+00, 3.0028e-01, 1.8453e+00,  ..., 0.0000e+00,\n           0.0000e+00, 8.3771e-01],\n          [0.0000e+00, 6.4411e-01, 9.4922e-02,  ..., 4.8165e-01,\n           7.7822e-02, 0.0000e+00]],\n\n         ...,\n\n         [[0.0000e+00, 3.3106e-01, 0.0000e+00,  ..., 2.7657e-01,\n           6.1715e-01, 8.7797e-01],\n          [1.0966e+00, 1.0772e+00, 0.0000e+00,  ..., 0.0000e+00,\n           0.0000e+00, 5.4495e-01],\n          [8.7346e-01, 0.0000e+00, 0.0000e+00,  ..., 9.9117e-01,\n           0.0000e+00, 1.5654e+00]],\n\n         [[0.0000e+00, 3.7669e-01, 0.0000e+00,  ..., 2.3878e-01,\n           6.1357e-01, 9.1024e-01],\n          [9.4599e-01, 1.0253e+00, 0.0000e+00,  ..., 0.0000e+00,\n           0.0000e+00, 5.2146e-01],\n          [7.6814e-01, 7.4177e-04, 8.9183e-02,  ..., 6.8533e-01,\n           0.0000e+00, 1.6342e+00]],\n\n         [[0.0000e+00, 4.8097e-01, 4.0926e-02,  ..., 1.5630e-01,\n           6.6772e-01, 7.2343e-01],\n          [9.7259e-01, 1.0702e+00, 0.0000e+00,  ..., 0.0000e+00,\n           0.0000e+00, 5.3604e-01],\n          [9.4286e-01, 0.0000e+00, 0.0000e+00,  ..., 8.9574e-01,\n           0.0000e+00, 1.5267e+00]]],\n\n\n        ...,\n\n\n        [[[0.0000e+00, 0.0000e+00, 0.0000e+00,  ..., 0.0000e+00,\n           0.0000e+00, 0.0000e+00],\n          [0.0000e+00, 0.0000e+00, 0.0000e+00,  ..., 0.0000e+00,\n           0.0000e+00, 0.0000e+00],\n          [0.0000e+00, 0.0000e+00, 0.0000e+00,  ..., 0.0000e+00,\n           0.0000e+00, 0.0000e+00]],\n\n         [[0.0000e+00, 0.0000e+00, 0.0000e+00,  ..., 0.0000e+00,\n           0.0000e+00, 0.0000e+00],\n          [0.0000e+00, 0.0000e+00, 0.0000e+00,  ..., 0.0000e+00,\n           0.0000e+00, 0.0000e+00],\n          [0.0000e+00, 0.0000e+00, 0.0000e+00,  ..., 0.0000e+00,\n           0.0000e+00, 0.0000e+00]],\n\n         [[0.0000e+00, 0.0000e+00, 0.0000e+00,  ..., 0.0000e+00,\n           0.0000e+00, 0.0000e+00],\n          [0.0000e+00, 0.0000e+00, 0.0000e+00,  ..., 0.0000e+00,\n           0.0000e+00, 0.0000e+00],\n          [0.0000e+00, 0.0000e+00, 0.0000e+00,  ..., 0.0000e+00,\n           0.0000e+00, 0.0000e+00]],\n\n         ...,\n\n         [[0.0000e+00, 0.0000e+00, 0.0000e+00,  ..., 0.0000e+00,\n           0.0000e+00, 0.0000e+00],\n          [0.0000e+00, 0.0000e+00, 0.0000e+00,  ..., 0.0000e+00,\n           0.0000e+00, 0.0000e+00],\n          [0.0000e+00, 0.0000e+00, 0.0000e+00,  ..., 0.0000e+00,\n           0.0000e+00, 0.0000e+00]],\n\n         [[0.0000e+00, 0.0000e+00, 0.0000e+00,  ..., 0.0000e+00,\n           0.0000e+00, 0.0000e+00],\n          [0.0000e+00, 0.0000e+00, 0.0000e+00,  ..., 0.0000e+00,\n           0.0000e+00, 0.0000e+00],\n          [0.0000e+00, 0.0000e+00, 0.0000e+00,  ..., 0.0000e+00,\n           0.0000e+00, 0.0000e+00]],\n\n         [[0.0000e+00, 0.0000e+00, 0.0000e+00,  ..., 0.0000e+00,\n           0.0000e+00, 0.0000e+00],\n          [0.0000e+00, 0.0000e+00, 0.0000e+00,  ..., 0.0000e+00,\n           0.0000e+00, 0.0000e+00],\n          [0.0000e+00, 0.0000e+00, 0.0000e+00,  ..., 0.0000e+00,\n           0.0000e+00, 0.0000e+00]]],\n\n\n        [[[0.0000e+00, 0.0000e+00, 0.0000e+00,  ..., 0.0000e+00,\n           0.0000e+00, 0.0000e+00],\n          [0.0000e+00, 0.0000e+00, 0.0000e+00,  ..., 0.0000e+00,\n           0.0000e+00, 0.0000e+00],\n          [0.0000e+00, 0.0000e+00, 0.0000e+00,  ..., 0.0000e+00,\n           0.0000e+00, 0.0000e+00]],\n\n         [[0.0000e+00, 0.0000e+00, 0.0000e+00,  ..., 0.0000e+00,\n           0.0000e+00, 0.0000e+00],\n          [0.0000e+00, 0.0000e+00, 0.0000e+00,  ..., 0.0000e+00,\n           0.0000e+00, 0.0000e+00],\n          [0.0000e+00, 0.0000e+00, 0.0000e+00,  ..., 0.0000e+00,\n           0.0000e+00, 0.0000e+00]],\n\n         [[0.0000e+00, 0.0000e+00, 0.0000e+00,  ..., 0.0000e+00,\n           0.0000e+00, 0.0000e+00],\n          [0.0000e+00, 0.0000e+00, 0.0000e+00,  ..., 0.0000e+00,\n           0.0000e+00, 0.0000e+00],\n          [0.0000e+00, 0.0000e+00, 0.0000e+00,  ..., 0.0000e+00,\n           0.0000e+00, 0.0000e+00]],\n\n         ...,\n\n         [[0.0000e+00, 0.0000e+00, 0.0000e+00,  ..., 0.0000e+00,\n           0.0000e+00, 0.0000e+00],\n          [0.0000e+00, 0.0000e+00, 0.0000e+00,  ..., 0.0000e+00,\n           0.0000e+00, 0.0000e+00],\n          [0.0000e+00, 0.0000e+00, 0.0000e+00,  ..., 0.0000e+00,\n           0.0000e+00, 0.0000e+00]],\n\n         [[0.0000e+00, 0.0000e+00, 0.0000e+00,  ..., 0.0000e+00,\n           0.0000e+00, 0.0000e+00],\n          [0.0000e+00, 0.0000e+00, 0.0000e+00,  ..., 0.0000e+00,\n           0.0000e+00, 0.0000e+00],\n          [0.0000e+00, 0.0000e+00, 0.0000e+00,  ..., 0.0000e+00,\n           0.0000e+00, 0.0000e+00]],\n\n         [[0.0000e+00, 0.0000e+00, 0.0000e+00,  ..., 0.0000e+00,\n           0.0000e+00, 0.0000e+00],\n          [0.0000e+00, 0.0000e+00, 0.0000e+00,  ..., 0.0000e+00,\n           0.0000e+00, 0.0000e+00],\n          [0.0000e+00, 0.0000e+00, 0.0000e+00,  ..., 0.0000e+00,\n           0.0000e+00, 0.0000e+00]]],\n\n\n        [[[0.0000e+00, 0.0000e+00, 0.0000e+00,  ..., 0.0000e+00,\n           0.0000e+00, 0.0000e+00],\n          [0.0000e+00, 0.0000e+00, 0.0000e+00,  ..., 0.0000e+00,\n           0.0000e+00, 0.0000e+00],\n          [0.0000e+00, 0.0000e+00, 0.0000e+00,  ..., 0.0000e+00,\n           0.0000e+00, 0.0000e+00]],\n\n         [[0.0000e+00, 0.0000e+00, 0.0000e+00,  ..., 0.0000e+00,\n           0.0000e+00, 0.0000e+00],\n          [0.0000e+00, 0.0000e+00, 0.0000e+00,  ..., 0.0000e+00,\n           0.0000e+00, 0.0000e+00],\n          [0.0000e+00, 0.0000e+00, 0.0000e+00,  ..., 0.0000e+00,\n           0.0000e+00, 0.0000e+00]],\n\n         [[0.0000e+00, 0.0000e+00, 0.0000e+00,  ..., 0.0000e+00,\n           0.0000e+00, 0.0000e+00],\n          [0.0000e+00, 0.0000e+00, 0.0000e+00,  ..., 0.0000e+00,\n           0.0000e+00, 0.0000e+00],\n          [0.0000e+00, 0.0000e+00, 0.0000e+00,  ..., 0.0000e+00,\n           0.0000e+00, 0.0000e+00]],\n\n         ...,\n\n         [[0.0000e+00, 0.0000e+00, 0.0000e+00,  ..., 0.0000e+00,\n           0.0000e+00, 0.0000e+00],\n          [0.0000e+00, 0.0000e+00, 0.0000e+00,  ..., 0.0000e+00,\n           0.0000e+00, 0.0000e+00],\n          [0.0000e+00, 0.0000e+00, 0.0000e+00,  ..., 0.0000e+00,\n           0.0000e+00, 0.0000e+00]],\n\n         [[0.0000e+00, 0.0000e+00, 0.0000e+00,  ..., 0.0000e+00,\n           0.0000e+00, 0.0000e+00],\n          [0.0000e+00, 0.0000e+00, 0.0000e+00,  ..., 0.0000e+00,\n           0.0000e+00, 0.0000e+00],\n          [0.0000e+00, 0.0000e+00, 0.0000e+00,  ..., 0.0000e+00,\n           0.0000e+00, 0.0000e+00]],\n\n         [[0.0000e+00, 0.0000e+00, 0.0000e+00,  ..., 0.0000e+00,\n           0.0000e+00, 0.0000e+00],\n          [0.0000e+00, 0.0000e+00, 0.0000e+00,  ..., 0.0000e+00,\n           0.0000e+00, 0.0000e+00],\n          [0.0000e+00, 0.0000e+00, 0.0000e+00,  ..., 0.0000e+00,\n           0.0000e+00, 0.0000e+00]]]], grad_fn=<SelectBackward>)\n"
     ]
    },
    {
     "output_type": "execute_result",
     "data": {
      "text/plain": [
       "tensor([[-0.3942, -2.9030, -2.0372, -2.6688, -2.6424],\n",
       "        [-0.3422, -1.7006, -3.0423, -3.1470, -4.1044],\n",
       "        [-1.6755, -2.2884, -2.7162, -1.4525, -0.8886]],\n",
       "       grad_fn=<LogSoftmaxBackward>)"
      ]
     },
     "metadata": {},
     "execution_count": 17
    }
   ],
   "source": [
    "sfi(record)"
   ]
  },
  {
   "cell_type": "code",
   "execution_count": null,
   "metadata": {},
   "outputs": [],
   "source": [
    "sfi = tune(sfi, hparams, loaders)"
   ]
  },
  {
   "cell_type": "code",
   "execution_count": null,
   "metadata": {},
   "outputs": [],
   "source": [
    "evaluate(sfi, hparams, loaders[1], loading=True)"
   ]
  },
  {
   "cell_type": "code",
   "execution_count": null,
   "metadata": {},
   "outputs": [],
   "source": [
    "hparams['name'] = '-'.join([name,'nrms',hparams['select']])\n",
    "nrms_encoder = NRMS_Encoder(hparams, vocab)\n",
    "sfi = SFI_gating(hparams, nrms_encoder).to(hparams['device'])"
   ]
  },
  {
   "cell_type": "code",
   "execution_count": null,
   "metadata": {},
   "outputs": [],
   "source": [
    "sfi = train(sfi, hparams, loaders, interval=10)"
   ]
  },
  {
   "cell_type": "code",
   "execution_count": null,
   "metadata": {},
   "outputs": [],
   "source": [
    "hparams['name'] = '-'.join([name,'npa',hparams['select']])\n",
    "\n",
    "hparams['user_dim'] = 200\n",
    "hparams['query_dim'] = 200\n",
    "hparams['filter_num'] = 400\n",
    "\n",
    "npa_encoder = NPA_Encoder(hparams, vocab, len(loaders[0].dataset.uid2index))\n",
    "sfi = SFI_gating(hparams, npa_encoder).to(hparams['device'])"
   ]
  },
  {
   "cell_type": "code",
   "execution_count": null,
   "metadata": {},
   "outputs": [],
   "source": [
    "sfi = train(sfi, hparams, loaders, interval=10)"
   ]
  },
  {
   "cell_type": "code",
   "execution_count": null,
   "metadata": {},
   "outputs": [],
   "source": [
    "hparams['name'] = '-'.join([name,'pipeline',hparams['select']])\n",
    "\n",
    "hparams['pipeline'] = 'sfi-fim'\n",
    "# hparams['scale'] = 'large'\n",
    "\n",
    "ppl_encoder = Pipeline_Encoder(hparams)\n",
    "sfi = SFI_gating(hparams, ppl_encoder).to(hparams['device'])"
   ]
  },
  {
   "cell_type": "code",
   "execution_count": null,
   "metadata": {},
   "outputs": [],
   "source": [
    "sfi = train(sfi, hparams, loaders, interval=10)"
   ]
  },
  {
   "cell_type": "code",
   "execution_count": null,
   "metadata": {},
   "outputs": [],
   "source": [
    "hparams['name'] = '-'.join([name,'mha',hparams['select']])\n",
    "\n",
    "mha_encoder = MHA_Encoder(hparams, vocab)\n",
    "sfi = SFI_gating(hparams, mha_encoder).to(hparams['device'])"
   ]
  },
  {
   "cell_type": "code",
   "execution_count": null,
   "metadata": {},
   "outputs": [],
   "source": [
    "sfi = train(sfi, hparams, loaders, interval=10)"
   ]
  },
  {
   "cell_type": "code",
   "execution_count": null,
   "metadata": {},
   "outputs": [],
   "source": [
    "hparams['name'] = '-'.join([name,'lstm',hparams['select']])\n",
    "hparams['hidden_dim'] = 256\n",
    "\n",
    "rnn_encoder = RNN_Encoder(hparams,vocab)\n",
    "sfi = SFI_gating(hparams, rnn_encoder).to(hparams['device'])"
   ]
  },
  {
   "cell_type": "code",
   "execution_count": null,
   "metadata": {},
   "outputs": [],
   "source": [
    "sfi = train(sfi, hparams, loaders, interval=10)"
   ]
  },
  {
   "cell_type": "code",
   "execution_count": null,
   "metadata": {},
   "outputs": [],
   "source": [
    "hparams['name'] = '-'.join([name,'bert',hparams['select']])\n",
    "\n",
    "hparams['level'] = 2\n",
    "# hparams['batch_size'] = 10\n",
    "# hparams['bert'] = 'bert-base-uncased'\n",
    "hparams['bert'] = 'albert-base-v2'\n",
    "\n",
    "_, loaders = prepare(hparams)"
   ]
  },
  {
   "cell_type": "code",
   "execution_count": null,
   "metadata": {},
   "outputs": [],
   "source": [
    "bert_encoder = Bert_Encoder(hparams)\n",
    "sfi = SFI_gating(hparams, bert_encoder).to(hparams['device'])"
   ]
  },
  {
   "cell_type": "code",
   "execution_count": null,
   "metadata": {},
   "outputs": [],
   "source": [
    "sfi = train(sfi, hparams, loaders, interval=10)"
   ]
  },
  {
   "source": [
    "## The rest is for development"
   ],
   "cell_type": "markdown",
   "metadata": {}
  }
 ]
}