{
 "metadata": {
  "language_info": {
   "codemirror_mode": {
    "name": "ipython",
    "version": 3
   },
   "file_extension": ".ipynb",
   "mimetype": "text/x-python",
   "name": "python",
   "nbconvert_exporter": "python",
   "pygments_lexer": "ipython3",
   "version": "3.8.5-final"
  },
  "orig_nbformat": 2,
  "kernelspec": {
   "name": "python38564bitnncondad67fb259925d4833a703b0467175fd55",
   "display_name": "Python 3.8.5 64-bit ('nn': conda)"
  },
  "metadata": {
   "interpreter": {
    "hash": "3eb98a31bb4fe483f921d6d3a56a708e0ea8295072fddff1b0a8d949ab7fd102"
   }
  }
 },
 "nbformat": 4,
 "nbformat_minor": 2,
 "cells": [
  {
   "cell_type": "code",
   "execution_count": 1,
   "metadata": {},
   "outputs": [],
   "source": [
    "import os\n",
    "import sys\n",
    "os.chdir('../')\n",
    "sys.path.append('../')\n",
    "\n",
    "import torch\n",
    "from utils.utils import train,prepare,evaluate,tune\n",
    "from models.Interactors import FIM_Interactor, KNRM_Interactor\n",
    "from models.SFI import SFI_gating, SFI_gating_MultiView\n",
    "from configs.ManualConfig import hparams"
   ]
  },
  {
   "cell_type": "code",
   "execution_count": 6,
   "metadata": {},
   "outputs": [],
   "source": [
    "name='sfi'\n",
    "hparams['k'] = 30\n",
    "hparams['select'] = 'gating'\n",
    "hparams['onehot'] = True\n",
    "# hparams['threshold'] = 0.5"
   ]
  },
  {
   "cell_type": "code",
   "execution_count": 7,
   "metadata": {},
   "outputs": [
    {
     "output_type": "stream",
     "name": "stderr",
     "text": [
      "[2021-04-18 10:34:39,731] INFO (root) Hyper Parameters are\n",
      "{'scale': 'demo', 'mode': 'train', 'batch_size': 10, 'title_size': 20, 'abs_size': 40, 'his_size': 50, 'vert_num': 18, 'subvert_num': 293, 'npratio': 4, 'dropout_p': 0.2, 'query_dim': 200, 'embedding_dim': 300, 'filter_num': 150, 'value_dim': 16, 'head_num': 16, 'epochs': 8, 'metrics': 'auc,mean_mrr,ndcg@5,ndcg@10', 'device': 'cpu', 'attrs': ['title'], 'k': 30, 'select': 'gating', 'save_step': [0], 'news_id': False, 'validate': False, 'interval': 10, 'spadam': True, 'onehot': True}\n",
      "[2021-04-18 10:34:39,733] INFO (root) preparing dataset...\n",
      "[2021-04-18 10:34:43,734] INFO (torchtext.vocab) Loading vectors from .vector_cache/glove.840B.300d.txt.pt\n"
     ]
    }
   ],
   "source": [
    "# hparams['validate'] = True\n",
    "vocab, loaders = prepare(hparams, pin_memory=False)"
   ]
  },
  {
   "cell_type": "code",
   "execution_count": 8,
   "metadata": {},
   "outputs": [],
   "source": [
    "record = next(iter(loaders[0]))"
   ]
  },
  {
   "cell_type": "code",
   "execution_count": 11,
   "metadata": {},
   "outputs": [],
   "source": [
    "from models.Encoders.FIM import FIM_Encoder\n",
    "\n",
    "encoder = FIM_Encoder(hparams, vocab)\n",
    "interactor = FIM_Interactor()\n",
    "# interactor = KNRM_Interactor()\n",
    "\n",
    "hparams['name'] = '-'.join([name,encoder.name,hparams['select']])\n",
    "\n",
    "# sfi = SFI_gating_MultiView(hparams, encoder, interactor).to(hparams['device'])\n",
    "sfi = SFI_gating(hparams, encoder, interactor).to(hparams['device'])\n",
    "\n",
    "# sfi.load_state_dict(torch.load('data/model_params/sfi-fim-fim-gating/large_epoch2_step16916_[hs=50,topk=50,contra=0,attrs=title].model', map_location=hparams['device'])['model'])"
   ]
  },
  {
   "cell_type": "code",
   "execution_count": 12,
   "metadata": {},
   "outputs": [
    {
     "output_type": "execute_result",
     "data": {
      "text/plain": [
       "tensor([[-1.4493, -1.6813, -1.6532, -1.6305, -1.6509],\n",
       "        [-1.8871, -1.4121, -1.8748, -1.6347, -1.3608],\n",
       "        [-2.0034, -1.2797, -1.8911, -1.6376, -1.4203],\n",
       "        [-1.6491, -1.5123, -2.1530, -1.0962, -1.9870],\n",
       "        [-1.4529, -1.6627, -1.6071, -1.5913, -1.7582],\n",
       "        [-1.7003, -1.9281, -1.7101, -1.3364, -1.4770],\n",
       "        [-0.6197, -2.0016, -1.9635, -2.9857, -1.9961],\n",
       "        [-2.0064, -1.6496, -1.4424, -1.6374, -1.4165],\n",
       "        [-1.2671, -1.8530, -1.8601, -1.4277, -1.7953],\n",
       "        [-2.7425, -1.4901, -2.1843, -0.9616, -1.5352]],\n",
       "       grad_fn=<LogSoftmaxBackward>)"
      ]
     },
     "metadata": {},
     "execution_count": 12
    }
   ],
   "source": [
    "sfi(record)"
   ]
  },
  {
   "cell_type": "code",
   "execution_count": null,
   "metadata": {},
   "outputs": [],
   "source": [
    "sfi = tune(sfi, hparams, loaders)"
   ]
  },
  {
   "cell_type": "code",
   "execution_count": null,
   "metadata": {},
   "outputs": [],
   "source": [
    "evaluate(sfi, hparams, loaders[1], loading=True)"
   ]
  }
 ]
}