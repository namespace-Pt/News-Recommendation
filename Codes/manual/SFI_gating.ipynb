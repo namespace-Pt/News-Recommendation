{
 "metadata": {
  "language_info": {
   "codemirror_mode": {
    "name": "ipython",
    "version": 3
   },
   "file_extension": ".ipynb",
   "mimetype": "text/x-python",
   "name": "python",
   "nbconvert_exporter": "python",
   "pygments_lexer": "ipython3",
   "version": "3.8.5-final"
  },
  "orig_nbformat": 2,
  "kernelspec": {
   "name": "python38564bitnncondad67fb259925d4833a703b0467175fd55",
   "display_name": "Python 3.8.5 64-bit ('nn': conda)"
  },
  "metadata": {
   "interpreter": {
    "hash": "3eb98a31bb4fe483f921d6d3a56a708e0ea8295072fddff1b0a8d949ab7fd102"
   }
  }
 },
 "nbformat": 4,
 "nbformat_minor": 2,
 "cells": [
  {
   "cell_type": "code",
   "execution_count": 1,
   "metadata": {},
   "outputs": [],
   "source": [
    "import os\n",
    "import sys\n",
    "os.chdir('../')\n",
    "sys.path.append('../')\n",
    "\n",
    "import torch\n",
    "from utils.utils import train,prepare,evaluate\n",
    "from models.Encoders import NRMS_Encoder, FIM_Encoder, NPA_Encoder, Pipeline_Encoder, MHA_Encoder, Bert_Encoder, RNN_Encoder, CNN_Encoder\n",
    "from models.Interactors import FIM_Interactor, KNRM_Interactor\n",
    "from models.SFI import SFI_gating"
   ]
  },
  {
   "cell_type": "code",
   "execution_count": 2,
   "metadata": {},
   "outputs": [],
   "source": [
    "name='sfi'\n",
    "hparams = {\n",
    "    'scale':'demo',\n",
    "    'mode':'train',\n",
    "    'device':'cuda:1',\n",
    "    'epochs':8,\n",
    "    'batch_size':50,\n",
    "    'title_size':20,\n",
    "    'abs_size':40,\n",
    "    'his_size':50,\n",
    "    'k':30,\n",
    "    'npratio':4,\n",
    "    'dropout_p':0.2,\n",
    "    'embedding_dim':300,\n",
    "    'value_dim':16,\n",
    "    'query_dim':200,\n",
    "    'head_num':16,\n",
    "    'filter_num':150,\n",
    "    'select':'gating',\n",
    "    'level':1,\n",
    "    'metrics':'auc,mean_mrr,ndcg@5,ndcg@10',\n",
    "    'attrs': ['abs','vert','subvert'],\n",
    "    # 'attrs': ['title'],\n",
    "    'save_step':[0],\n",
    "    'spadam':True,\n",
    "}\n",
    "# torch.cuda.set_device(hparams['device'])"
   ]
  },
  {
   "cell_type": "code",
   "execution_count": 3,
   "metadata": {},
   "outputs": [
    {
     "output_type": "stream",
     "name": "stderr",
     "text": [
      "[2021-04-09 05:46:28,421] INFO (root) Hyper Parameters are\n",
      "{'scale': 'demo', 'mode': 'train', 'device': 'cuda:1', 'epochs': 8, 'batch_size': 50, 'title_size': 20, 'abs_size': 40, 'his_size': 50, 'k': 30, 'npratio': 4, 'dropout_p': 0.2, 'embedding_dim': 300, 'value_dim': 16, 'query_dim': 200, 'head_num': 16, 'filter_num': 150, 'select': 'gating', 'level': 1, 'metrics': 'auc,mean_mrr,ndcg@5,ndcg@10', 'attrs': ['abs', 'vert', 'subvert'], 'save_step': [0], 'spadam': True}\n",
      "[2021-04-09 05:46:28,423] INFO (root) preparing dataset...\n",
      "[2021-04-09 05:46:32,606] INFO (torchtext.vocab) Loading vectors from .vector_cache/glove.840B.300d.txt.pt\n"
     ]
    }
   ],
   "source": [
    "# hparams['validate'] = True\n",
    "vocab, loaders = prepare(hparams)"
   ]
  },
  {
   "cell_type": "code",
   "execution_count": 4,
   "metadata": {},
   "outputs": [],
   "source": [
    "encoder = FIM_Encoder(hparams, vocab)\n",
    "interactor = FIM_Interactor(hparams['k'], encoder.signal_length)\n",
    "\n",
    "hparams['name'] = '-'.join([name,encoder.name,hparams['select']])\n",
    "\n",
    "sfi = SFI_gating(hparams, encoder, interactor).to(hparams['device'])"
   ]
  },
  {
   "cell_type": "code",
   "execution_count": 5,
   "metadata": {},
   "outputs": [
    {
     "output_type": "stream",
     "name": "stderr",
     "text": [
      "[2021-04-09 05:46:45,784] INFO (root) training...\n",
      "epoch 1 , step 50 , loss: 1.5908: : 59it [00:18,  3.26it/s]\n",
      "[2021-04-09 05:47:06,646] INFO (root) saved model of step 0, epoch 1 at data/model_params/sfi-fim-encoder-gating/demo_epoch1_step0_[hs=50,topk=30].model\n",
      "epoch 2 , step 50 , loss: 1.5164: : 59it [00:17,  3.39it/s]\n",
      "[2021-04-09 05:47:26,804] INFO (root) saved model of step 0, epoch 2 at data/model_params/sfi-fim-encoder-gating/demo_epoch2_step0_[hs=50,topk=30].model\n",
      "epoch 3 , step 50 , loss: 1.4497: : 59it [00:17,  3.39it/s]\n",
      "[2021-04-09 05:47:46,950] INFO (root) saved model of step 0, epoch 3 at data/model_params/sfi-fim-encoder-gating/demo_epoch3_step0_[hs=50,topk=30].model\n",
      "epoch 4 , step 50 , loss: 1.3788: : 59it [00:17,  3.39it/s]\n",
      "[2021-04-09 05:48:07,159] INFO (root) saved model of step 0, epoch 4 at data/model_params/sfi-fim-encoder-gating/demo_epoch4_step0_[hs=50,topk=30].model\n",
      "epoch 5 , step 50 , loss: 1.3111: : 59it [00:17,  3.42it/s]\n",
      "[2021-04-09 05:48:27,220] INFO (root) saved model of step 0, epoch 5 at data/model_params/sfi-fim-encoder-gating/demo_epoch5_step0_[hs=50,topk=30].model\n",
      "epoch 6 , step 50 , loss: 1.2853: : 59it [00:17,  3.39it/s]\n",
      "[2021-04-09 05:48:47,422] INFO (root) saved model of step 0, epoch 6 at data/model_params/sfi-fim-encoder-gating/demo_epoch6_step0_[hs=50,topk=30].model\n",
      "epoch 7 , step 50 , loss: 1.2501: : 59it [00:17,  3.39it/s]\n",
      "[2021-04-09 05:49:07,560] INFO (root) saved model of step 0, epoch 7 at data/model_params/sfi-fim-encoder-gating/demo_epoch7_step0_[hs=50,topk=30].model\n",
      "epoch 8 , step 50 , loss: 1.2066: : 59it [00:17,  3.37it/s]\n",
      "[2021-04-09 05:49:27,825] INFO (root) saved model of step 0, epoch 8 at data/model_params/sfi-fim-encoder-gating/demo_epoch8_step0_[hs=50,topk=30].model\n",
      "[2021-04-09 05:49:27,886] INFO (root) evaluating...\n",
      "363it [00:12, 29.81it/s]\n",
      "[2021-04-09 05:49:41,572] INFO (root) evaluation results:{'auc': 0.5934, 'mean_mrr': 0.2779, 'ndcg@5': 0.2986, 'ndcg@10': 0.3579, 'epoch': 8, 'step': 0}\n"
     ]
    }
   ],
   "source": [
    "sfi = train(sfi, hparams, loaders, interval=10)"
   ]
  },
  {
   "cell_type": "code",
   "execution_count": 5,
   "metadata": {},
   "outputs": [
    {
     "output_type": "stream",
     "name": "stderr",
     "text": [
      "[2021-04-07 08:52:30,442] INFO (root) Loading model from data/model_params/sfi-fim-encoder-gating/demo_epoch8_step0_[hs=50,topk=30].model...\n",
      "[2021-04-07 08:52:30,445] INFO (root) evaluating...\n",
      "15062it [02:42, 92.52it/s]\n",
      "[2021-04-07 08:55:16,852] INFO (root) evaluation results:{'auc': 0.7855, 'mean_mrr': 0.4359, 'ndcg@5': 0.4892, 'ndcg@10': 0.5446, 'epoch': 8, 'step': 0}\n"
     ]
    },
    {
     "output_type": "execute_result",
     "data": {
      "text/plain": [
       "{'auc': 0.7855,\n",
       " 'mean_mrr': 0.4359,\n",
       " 'ndcg@5': 0.4892,\n",
       " 'ndcg@10': 0.5446,\n",
       " 'epoch': 8,\n",
       " 'step': 0}"
      ]
     },
     "metadata": {},
     "execution_count": 5
    }
   ],
   "source": [
    "evaluate(sfi, hparams, loaders[2], loading=True)"
   ]
  },
  {
   "cell_type": "code",
   "execution_count": null,
   "metadata": {},
   "outputs": [],
   "source": [
    "hparams['name'] = '-'.join([name,'nrms',hparams['select']])\n",
    "nrms_encoder = NRMS_Encoder(hparams, vocab)\n",
    "sfi = SFI_gating(hparams, nrms_encoder).to(hparams['device'])"
   ]
  },
  {
   "cell_type": "code",
   "execution_count": null,
   "metadata": {},
   "outputs": [],
   "source": [
    "sfi = train(sfi, hparams, loaders, interval=10)"
   ]
  },
  {
   "cell_type": "code",
   "execution_count": null,
   "metadata": {},
   "outputs": [],
   "source": [
    "hparams['name'] = '-'.join([name,'npa',hparams['select']])\n",
    "\n",
    "hparams['user_dim'] = 200\n",
    "hparams['query_dim'] = 200\n",
    "hparams['filter_num'] = 400\n",
    "\n",
    "npa_encoder = NPA_Encoder(hparams, vocab, len(loaders[0].dataset.uid2index))\n",
    "sfi = SFI_gating(hparams, npa_encoder).to(hparams['device'])"
   ]
  },
  {
   "cell_type": "code",
   "execution_count": null,
   "metadata": {},
   "outputs": [],
   "source": [
    "sfi = train(sfi, hparams, loaders, interval=10)"
   ]
  },
  {
   "cell_type": "code",
   "execution_count": null,
   "metadata": {},
   "outputs": [],
   "source": [
    "hparams['name'] = '-'.join([name,'pipeline',hparams['select']])\n",
    "\n",
    "hparams['pipeline'] = 'sfi-fim'\n",
    "# hparams['scale'] = 'large'\n",
    "\n",
    "ppl_encoder = Pipeline_Encoder(hparams)\n",
    "sfi = SFI_gating(hparams, ppl_encoder).to(hparams['device'])"
   ]
  },
  {
   "cell_type": "code",
   "execution_count": null,
   "metadata": {},
   "outputs": [],
   "source": [
    "sfi = train(sfi, hparams, loaders, interval=10)"
   ]
  },
  {
   "cell_type": "code",
   "execution_count": null,
   "metadata": {},
   "outputs": [],
   "source": [
    "hparams['name'] = '-'.join([name,'mha',hparams['select']])\n",
    "\n",
    "mha_encoder = MHA_Encoder(hparams, vocab)\n",
    "sfi = SFI_gating(hparams, mha_encoder).to(hparams['device'])"
   ]
  },
  {
   "cell_type": "code",
   "execution_count": null,
   "metadata": {},
   "outputs": [],
   "source": [
    "sfi = train(sfi, hparams, loaders, interval=10)"
   ]
  },
  {
   "cell_type": "code",
   "execution_count": null,
   "metadata": {},
   "outputs": [],
   "source": [
    "hparams['name'] = '-'.join([name,'lstm',hparams['select']])\n",
    "hparams['hidden_dim'] = 256\n",
    "\n",
    "rnn_encoder = RNN_Encoder(hparams,vocab)\n",
    "sfi = SFI_gating(hparams, rnn_encoder).to(hparams['device'])"
   ]
  },
  {
   "cell_type": "code",
   "execution_count": null,
   "metadata": {},
   "outputs": [],
   "source": [
    "sfi = train(sfi, hparams, loaders, interval=10)"
   ]
  },
  {
   "cell_type": "code",
   "execution_count": null,
   "metadata": {},
   "outputs": [],
   "source": [
    "hparams['name'] = '-'.join([name,'bert',hparams['select']])\n",
    "\n",
    "hparams['level'] = 2\n",
    "# hparams['batch_size'] = 10\n",
    "# hparams['bert'] = 'bert-base-uncased'\n",
    "hparams['bert'] = 'albert-base-v2'\n",
    "\n",
    "_, loaders = prepare(hparams)"
   ]
  },
  {
   "cell_type": "code",
   "execution_count": null,
   "metadata": {},
   "outputs": [],
   "source": [
    "bert_encoder = Bert_Encoder(hparams)\n",
    "sfi = SFI_gating(hparams, bert_encoder).to(hparams['device'])"
   ]
  },
  {
   "cell_type": "code",
   "execution_count": null,
   "metadata": {},
   "outputs": [],
   "source": [
    "sfi = train(sfi, hparams, loaders, interval=10)"
   ]
  },
  {
   "source": [
    "## The rest is for development"
   ],
   "cell_type": "markdown",
   "metadata": {}
  }
 ]
}