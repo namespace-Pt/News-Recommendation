{
 "metadata": {
  "language_info": {
   "codemirror_mode": {
    "name": "ipython",
    "version": 3
   },
   "file_extension": ".ipynb",
   "mimetype": "text/x-python",
   "name": "python",
   "nbconvert_exporter": "python",
   "pygments_lexer": "ipython3",
   "version": "3.8.5"
  },
  "orig_nbformat": 2,
  "kernelspec": {
   "name": "python38564bitnncondad67fb259925d4833a703b0467175fd55",
   "display_name": "Python 3.8.5 64-bit ('nn': conda)"
  },
  "metadata": {
   "interpreter": {
    "hash": "3eb98a31bb4fe483f921d6d3a56a708e0ea8295072fddff1b0a8d949ab7fd102"
   }
  }
 },
 "nbformat": 4,
 "nbformat_minor": 2,
 "cells": [
  {
   "cell_type": "code",
   "execution_count": 1,
   "metadata": {},
   "outputs": [],
   "source": [
    "import os\n",
    "import sys\n",
    "os.chdir('../')\n",
    "sys.path.append('../')\n",
    "\n",
    "import torch\n",
    "from utils.utils import train,prepare,evaluate,tune\n",
    "from models.Interactors import FIM_Interactor, KNRM_Interactor\n",
    "from models.Encoders.FIM import FIM_Encoder\n",
    "from models.SFI import SFI_gating, SFI_gating_MultiView\n",
    "from configs.ManualConfig import hparams"
   ]
  },
  {
   "cell_type": "code",
   "execution_count": 2,
   "metadata": {},
   "outputs": [],
   "source": [
    "name='sfi'\n",
    "hparams['k'] = 30\n",
    "hparams['his_size'] = 80\n",
    "hparams['select'] = 'gating'\n",
    "hparams['onehot'] = True\n",
    "hparams['device'] = 'cuda:0'\n",
    "# hparams['threshold'] = 0.5"
   ]
  },
  {
   "cell_type": "code",
   "execution_count": 3,
   "metadata": {},
   "outputs": [
    {
     "output_type": "stream",
     "name": "stderr",
     "text": [
      "[2021-04-21 16:39:09,167] INFO (root) Hyper Parameters are\n",
      "{'scale': 'demo', 'mode': 'train', 'batch_size': 10, 'title_size': 20, 'abs_size': 40, 'his_size': 50, 'vert_num': 18, 'subvert_num': 293, 'npratio': 4, 'dropout_p': 0.2, 'query_dim': 200, 'embedding_dim': 300, 'filter_num': 150, 'value_dim': 16, 'head_num': 16, 'epochs': 8, 'metrics': 'auc,mean_mrr,ndcg@5,ndcg@10', 'device': 'cuda:0', 'attrs': ['title'], 'k': 30, 'select': 'gating', 'save_step': [0], 'news_id': False, 'validate': False, 'interval': 10, 'spadam': True, 'onehot': True, 'val_freq': 1, 'schedule': None}\n",
      "[2021-04-21 16:39:09,168] INFO (root) preparing dataset...\n",
      "[2021-04-21 16:39:13,049] INFO (torchtext.vocab) Loading vectors from .vector_cache/glove.840B.300d.txt.pt\n"
     ]
    }
   ],
   "source": [
    "# hparams['validate'] = True\n",
    "vocab, loaders = prepare(hparams, pin_memory=False)"
   ]
  },
  {
   "cell_type": "code",
   "execution_count": 4,
   "metadata": {},
   "outputs": [],
   "source": [
    "record = next(iter(loaders[0]))"
   ]
  },
  {
   "cell_type": "code",
   "execution_count": 21,
   "metadata": {},
   "outputs": [],
   "source": [
    "encoder = FIM_Encoder(hparams, vocab)\n",
    "# interactor = KNRM_Interactor()\n",
    "\n",
    "hparams['name'] = '-'.join([name,encoder.name,hparams['select']])\n",
    "\n",
    "# sfi = SFI_gating_MultiView(hparams, encoder, interactor).to(hparams['device'])\n",
    "sfi = SFI_gating(hparams, encoder).to(hparams['device'])\n",
    "\n",
    "# sfi.load_state_dict(torch.load('/home/peitian_zhang/Codes/News-Recommendation/data/model_params/sfi-fim-fim-gating/large_epoch4_step33832_[hs=50,topk=30,attrs=title].model', map_location=hparams['device'])['model'])"
   ]
  },
  {
   "cell_type": "code",
   "execution_count": 22,
   "metadata": {},
   "outputs": [],
   "source": [
    "a = sfi.selectionProject.weight.clone().detach()"
   ]
  },
  {
   "cell_type": "code",
   "execution_count": 23,
   "metadata": {},
   "outputs": [
    {
     "output_type": "execute_result",
     "data": {
      "text/plain": [
       "tensor([[ 0.0158,  0.0521, -0.0074,  ...,  0.0379, -0.0240, -0.0457],\n",
       "        [-0.0931, -0.0150,  0.0645,  ...,  0.0029,  0.0418,  0.0092],\n",
       "        [-0.0204, -0.0933, -0.0630,  ...,  0.0016,  0.0417,  0.0152],\n",
       "        ...,\n",
       "        [-0.1802,  0.1111,  0.0246,  ...,  0.0459, -0.1516, -0.0268],\n",
       "        [ 0.0046, -0.1251,  0.0104,  ...,  0.1005, -0.2690,  0.0798],\n",
       "        [-0.0408, -0.1457,  0.0876,  ...,  0.0576, -0.0006,  0.0653]],\n",
       "       device='cuda:0')"
      ]
     },
     "metadata": {},
     "execution_count": 23
    }
   ],
   "source": [
    "a"
   ]
  },
  {
   "cell_type": "code",
   "execution_count": 24,
   "metadata": {},
   "outputs": [
    {
     "output_type": "stream",
     "name": "stderr",
     "text": [
      "[2021-04-21 16:46:49,945] INFO (root) training...\n",
      "epoch 1 , step 290 , loss: 1.5595: 100%|██████████| 295/295 [00:22<00:00, 12.86it/s]\n",
      "[2021-04-21 16:47:13,793] INFO (root) saved model of step 0, epoch 1 at data/model_params/sfi-fim-gating/demo_epoch1_step0_[hs=50,topk=30,attrs=title].model\n"
     ]
    },
    {
     "output_type": "execute_result",
     "data": {
      "text/plain": [
       "SFI_gating(\n",
       "  (encoder): FIM_Encoder(\n",
       "    (embedding): Embedding(54316, 300, sparse=True)\n",
       "    (ReLU): ReLU()\n",
       "    (LayerNorm): LayerNorm((150,), eps=1e-05, elementwise_affine=True)\n",
       "    (DropOut): Dropout(p=0.2, inplace=False)\n",
       "    (CNN_d1): Conv1d(300, 150, kernel_size=(3,), stride=(1,), padding=(1,))\n",
       "    (CNN_d2): Conv1d(300, 150, kernel_size=(3,), stride=(1,), padding=(2,), dilation=(2,))\n",
       "    (CNN_d3): Conv1d(300, 150, kernel_size=(3,), stride=(1,), padding=(3,), dilation=(3,))\n",
       "  )\n",
       "  (softmax): Softmax(dim=-1)\n",
       "  (interactor): FIM_Interactor(\n",
       "    (SeqCNN3D): Sequential(\n",
       "      (0): Conv3d(3, 32, kernel_size=[3, 3, 3], stride=(1, 1, 1), padding=(1, 1, 1))\n",
       "      (1): ReLU()\n",
       "      (2): MaxPool3d(kernel_size=[3, 3, 3], stride=[3, 3, 3], padding=0, dilation=1, ceil_mode=False)\n",
       "      (3): Conv3d(32, 16, kernel_size=[3, 3, 3], stride=(1, 1, 1), padding=(1, 1, 1))\n",
       "      (4): ReLU()\n",
       "      (5): MaxPool3d(kernel_size=[3, 3, 3], stride=[3, 3, 3], padding=0, dilation=1, ceil_mode=False)\n",
       "    )\n",
       "  )\n",
       "  (learningToRank): Linear(in_features=192, out_features=1, bias=True)\n",
       "  (selectionProject): Linear(in_features=150, out_features=150, bias=True)\n",
       "  (lstm): LSTM(150, 75, batch_first=True, bidirectional=True)\n",
       ")"
      ]
     },
     "metadata": {},
     "execution_count": 24
    }
   ],
   "source": [
    "hparams['epochs'] = 1\n",
    "train(sfi, hparams, loaders)"
   ]
  },
  {
   "cell_type": "code",
   "execution_count": 25,
   "metadata": {},
   "outputs": [],
   "source": [
    "c= a==sfi.selectionProject.weight"
   ]
  },
  {
   "cell_type": "code",
   "execution_count": 26,
   "metadata": {},
   "outputs": [
    {
     "output_type": "execute_result",
     "data": {
      "text/plain": [
       "Parameter containing:\n",
       "tensor([[ 0.0158,  0.0521, -0.0074,  ...,  0.0379, -0.0240, -0.0457],\n",
       "        [-0.0931, -0.0150,  0.0645,  ...,  0.0029,  0.0418,  0.0092],\n",
       "        [-0.0204, -0.0933, -0.0630,  ...,  0.0016,  0.0417,  0.0152],\n",
       "        ...,\n",
       "        [-0.1802,  0.1111,  0.0246,  ...,  0.0459, -0.1516, -0.0268],\n",
       "        [ 0.0046, -0.1251,  0.0104,  ...,  0.1005, -0.2690,  0.0798],\n",
       "        [-0.0408, -0.1457,  0.0876,  ...,  0.0576, -0.0006,  0.0653]],\n",
       "       device='cuda:0', requires_grad=True)"
      ]
     },
     "metadata": {},
     "execution_count": 26
    }
   ],
   "source": [
    "sfi.selectionProject.weight"
   ]
  },
  {
   "cell_type": "code",
   "execution_count": 27,
   "metadata": {},
   "outputs": [
    {
     "output_type": "execute_result",
     "data": {
      "text/plain": [
       "tensor([], device='cuda:0')"
      ]
     },
     "metadata": {},
     "execution_count": 27
    }
   ],
   "source": [
    "a[c==False]"
   ]
  },
  {
   "cell_type": "code",
   "execution_count": null,
   "metadata": {},
   "outputs": [],
   "source": []
  }
 ]
}