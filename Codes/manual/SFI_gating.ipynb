{
 "metadata": {
  "language_info": {
   "codemirror_mode": {
    "name": "ipython",
    "version": 3
   },
   "file_extension": ".ipynb",
   "mimetype": "text/x-python",
   "name": "python",
   "nbconvert_exporter": "python",
   "pygments_lexer": "ipython3",
   "version": "3.8.5-final"
  },
  "orig_nbformat": 2,
  "kernelspec": {
   "name": "python38564bitnncondad67fb259925d4833a703b0467175fd55",
   "display_name": "Python 3.8.5 64-bit ('nn': conda)"
  },
  "metadata": {
   "interpreter": {
    "hash": "3eb98a31bb4fe483f921d6d3a56a708e0ea8295072fddff1b0a8d949ab7fd102"
   }
  }
 },
 "nbformat": 4,
 "nbformat_minor": 2,
 "cells": [
  {
   "cell_type": "code",
   "execution_count": null,
   "metadata": {},
   "outputs": [],
   "source": [
    "import os\n",
    "import sys\n",
    "os.chdir('../')\n",
    "sys.path.append('../')\n",
    "\n",
    "import torch\n",
    "from utils.utils import train,prepare,evaluate,tune\n",
    "from models.Encoders import NRMS_Encoder, FIM_Encoder, NPA_Encoder, Pipeline_Encoder, MHA_Encoder, Bert_Encoder, RNN_Encoder, CNN_Encoder\n",
    "from models.Interactors import FIM_Interactor, KNRM_Interactor\n",
    "from models.SFI import SFI_gating, SFI_gating_MultiView"
   ]
  },
  {
   "cell_type": "code",
   "execution_count": null,
   "metadata": {},
   "outputs": [],
   "source": [
    "name='sfi'\n",
    "hparams = {\n",
    "    'scale':'demo',\n",
    "    'mode':'tune',\n",
    "    'device':'cuda:0',\n",
    "    'epochs':5,\n",
    "    'val_freq':1,\n",
    "    'batch_size':10,\n",
    "    'his_size':20,\n",
    "    'k':20,\n",
    "    'contra_num':0,\n",
    "    'dynamic':True,\n",
    "    'title_size':20,\n",
    "    'abs_size':40,\n",
    "    'npratio':4,\n",
    "    'dropout_p':0.2,\n",
    "    'embedding_dim':300,\n",
    "    'value_dim':16,\n",
    "    'query_dim':200,\n",
    "    'head_num':16,\n",
    "    'filter_num':150,\n",
    "    'select':'gating',\n",
    "    'level':1,\n",
    "    'metrics':'auc,mean_mrr,ndcg@5,ndcg@10',\n",
    "    'attrs': ['abs','vert','subvert'],\n",
    "    # 'attrs': ['title'],\n",
    "    'save_step':[0],\n",
    "    'spadam':True,\n",
    "    'interval':10,\n",
    "}\n",
    "# torch.cuda.set_device(hparams['device'])"
   ]
  },
  {
   "cell_type": "code",
   "execution_count": null,
   "metadata": {},
   "outputs": [],
   "source": [
    "hparams['validate'] = True\n",
    "vocab, loaders = prepare(hparams)"
   ]
  },
  {
   "cell_type": "code",
   "execution_count": null,
   "metadata": {},
   "outputs": [],
   "source": [
    "record = next(iter(loaders[0]))"
   ]
  },
  {
   "cell_type": "code",
   "execution_count": null,
   "metadata": {},
   "outputs": [],
   "source": [
    "encoder = FIM_Encoder(hparams, vocab)\n",
    "interactor = FIM_Interactor(hparams['k'], encoder.signal_length)\n",
    "\n",
    "hparams['name'] = '-'.join([name,encoder.name,hparams['select']])\n",
    "\n",
    "sfi = SFI_gating_MultiView(hparams, encoder, interactor).to(hparams['device'])\n",
    "\n",
    "# sfi.load_state_dict(torch.load('/home/peitian_zhang/Codes/News-Recommendation/data/model_params/sfi-fim-fim-gating/demo_epoch4_step58_[hs=20,topk=20,contra=0,attrs=title].model')['model'])"
   ]
  },
  {
   "cell_type": "code",
   "execution_count": null,
   "metadata": {},
   "outputs": [],
   "source": [
    "sfi(record)"
   ]
  },
  {
   "cell_type": "code",
   "execution_count": null,
   "metadata": {},
   "outputs": [],
   "source": [
    "sfi = tune(sfi, hparams, loaders)"
   ]
  },
  {
   "cell_type": "code",
   "execution_count": null,
   "metadata": {},
   "outputs": [],
   "source": [
    "evaluate(sfi, hparams, loaders[1], loading=True)"
   ]
  },
  {
   "cell_type": "code",
   "execution_count": null,
   "metadata": {},
   "outputs": [],
   "source": [
    "hparams['name'] = '-'.join([name,'nrms',hparams['select']])\n",
    "nrms_encoder = NRMS_Encoder(hparams, vocab)\n",
    "sfi = SFI_gating(hparams, nrms_encoder).to(hparams['device'])"
   ]
  },
  {
   "cell_type": "code",
   "execution_count": null,
   "metadata": {},
   "outputs": [],
   "source": [
    "sfi = train(sfi, hparams, loaders, interval=10)"
   ]
  },
  {
   "cell_type": "code",
   "execution_count": null,
   "metadata": {},
   "outputs": [],
   "source": [
    "hparams['name'] = '-'.join([name,'npa',hparams['select']])\n",
    "\n",
    "hparams['user_dim'] = 200\n",
    "hparams['query_dim'] = 200\n",
    "hparams['filter_num'] = 400\n",
    "\n",
    "npa_encoder = NPA_Encoder(hparams, vocab, len(loaders[0].dataset.uid2index))\n",
    "sfi = SFI_gating(hparams, npa_encoder).to(hparams['device'])"
   ]
  },
  {
   "cell_type": "code",
   "execution_count": null,
   "metadata": {},
   "outputs": [],
   "source": [
    "sfi = train(sfi, hparams, loaders, interval=10)"
   ]
  },
  {
   "cell_type": "code",
   "execution_count": null,
   "metadata": {},
   "outputs": [],
   "source": [
    "hparams['name'] = '-'.join([name,'pipeline',hparams['select']])\n",
    "\n",
    "hparams['pipeline'] = 'sfi-fim'\n",
    "# hparams['scale'] = 'large'\n",
    "\n",
    "ppl_encoder = Pipeline_Encoder(hparams)\n",
    "sfi = SFI_gating(hparams, ppl_encoder).to(hparams['device'])"
   ]
  },
  {
   "cell_type": "code",
   "execution_count": null,
   "metadata": {},
   "outputs": [],
   "source": [
    "sfi = train(sfi, hparams, loaders, interval=10)"
   ]
  },
  {
   "cell_type": "code",
   "execution_count": null,
   "metadata": {},
   "outputs": [],
   "source": [
    "hparams['name'] = '-'.join([name,'mha',hparams['select']])\n",
    "\n",
    "mha_encoder = MHA_Encoder(hparams, vocab)\n",
    "sfi = SFI_gating(hparams, mha_encoder).to(hparams['device'])"
   ]
  },
  {
   "cell_type": "code",
   "execution_count": null,
   "metadata": {},
   "outputs": [],
   "source": [
    "sfi = train(sfi, hparams, loaders, interval=10)"
   ]
  },
  {
   "cell_type": "code",
   "execution_count": null,
   "metadata": {},
   "outputs": [],
   "source": [
    "hparams['name'] = '-'.join([name,'lstm',hparams['select']])\n",
    "hparams['hidden_dim'] = 256\n",
    "\n",
    "rnn_encoder = RNN_Encoder(hparams,vocab)\n",
    "sfi = SFI_gating(hparams, rnn_encoder).to(hparams['device'])"
   ]
  },
  {
   "cell_type": "code",
   "execution_count": null,
   "metadata": {},
   "outputs": [],
   "source": [
    "sfi = train(sfi, hparams, loaders, interval=10)"
   ]
  },
  {
   "cell_type": "code",
   "execution_count": null,
   "metadata": {},
   "outputs": [],
   "source": [
    "hparams['name'] = '-'.join([name,'bert',hparams['select']])\n",
    "\n",
    "hparams['level'] = 2\n",
    "# hparams['batch_size'] = 10\n",
    "# hparams['bert'] = 'bert-base-uncased'\n",
    "hparams['bert'] = 'albert-base-v2'\n",
    "\n",
    "_, loaders = prepare(hparams)"
   ]
  },
  {
   "cell_type": "code",
   "execution_count": null,
   "metadata": {},
   "outputs": [],
   "source": [
    "bert_encoder = Bert_Encoder(hparams)\n",
    "sfi = SFI_gating(hparams, bert_encoder).to(hparams['device'])"
   ]
  },
  {
   "cell_type": "code",
   "execution_count": null,
   "metadata": {},
   "outputs": [],
   "source": [
    "sfi = train(sfi, hparams, loaders, interval=10)"
   ]
  },
  {
   "source": [
    "## The rest is for development"
   ],
   "cell_type": "markdown",
   "metadata": {}
  }
 ]
}