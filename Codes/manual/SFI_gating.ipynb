{
 "metadata": {
  "language_info": {
   "codemirror_mode": {
    "name": "ipython",
    "version": 3
   },
   "file_extension": ".py",
   "mimetype": "text/x-python",
   "name": "python",
   "nbconvert_exporter": "python",
   "pygments_lexer": "ipython3",
   "version": "3.8.5-final"
  },
  "orig_nbformat": 2,
  "kernelspec": {
   "name": "python3",
   "display_name": "Python 3",
   "language": "python"
  }
 },
 "nbformat": 4,
 "nbformat_minor": 2,
 "cells": [
  {
   "cell_type": "code",
   "execution_count": 1,
   "metadata": {},
   "outputs": [],
   "source": [
    "import os\n",
    "import sys\n",
    "os.chdir('../')\n",
    "sys.path.append('../')\n",
    "\n",
    "import torch\n",
    "from utils.utils import train,prepare,evaluate\n",
    "from models.Encoders import NRMS_Encoder, FIM_Encoder, NPA_Encoder, Pipeline_Encoder, MHA_Encoder, Bert_Encoder\n",
    "from models.SFI import SFI_gating"
   ]
  },
  {
   "cell_type": "code",
   "execution_count": 2,
   "metadata": {},
   "outputs": [],
   "source": [
    "name='sfi'\n",
    "hparams = {\n",
    "    'scale':'demo',\n",
    "    'mode':'train',\n",
    "    'device':'cuda:1',\n",
    "    'epochs':1,\n",
    "    'batch_size':10,\n",
    "    'title_size':20,\n",
    "    'his_size':50,\n",
    "    'k':30,\n",
    "    'npratio':4,\n",
    "    'dropout_p':0.2,\n",
    "    'embedding_dim':300,\n",
    "    'value_dim':16,\n",
    "    'query_dim':200,\n",
    "    'head_num':16,\n",
    "    'filter_num':150,\n",
    "    'select':'gating',\n",
    "    'level':1,\n",
    "    'metrics':'auc,mean_mrr,ndcg@5,ndcg@10',\n",
    "    'attrs': ['title'],\n",
    "    'save_step':[0],\n",
    "    'train_embedding':True,\n",
    "}\n",
    "torch.cuda.set_device(hparams['device'])"
   ]
  },
  {
   "cell_type": "code",
   "execution_count": 3,
   "metadata": {},
   "outputs": [
    {
     "output_type": "stream",
     "name": "stderr",
     "text": [
      "[2021-03-22 16:36:55,189] INFO (root) Hyper Parameters are\n",
      "{'scale': 'demo', 'mode': 'train', 'device': 'cuda:1', 'epochs': 1, 'batch_size': 10, 'title_size': 20, 'his_size': 50, 'k': 30, 'npratio': 4, 'dropout_p': 0.2, 'embedding_dim': 300, 'value_dim': 16, 'query_dim': 200, 'head_num': 16, 'filter_num': 150, 'select': 'gating', 'level': 1, 'metrics': 'auc,mean_mrr,ndcg@5,ndcg@10', 'attrs': ['title'], 'save_step': [0], 'train_embedding': True}\n",
      "[2021-03-22 16:36:55,191] INFO (root) preparing dataset...\n",
      "[2021-03-22 16:36:57,822] INFO (torchtext.vocab) Loading vectors from .vector_cache/glove.840B.300d.txt.pt\n"
     ]
    }
   ],
   "source": [
    "vocab, loaders = prepare(hparams)"
   ]
  },
  {
   "cell_type": "code",
   "execution_count": 4,
   "metadata": {},
   "outputs": [],
   "source": [
    "hparams['name'] = '-'.join([name,'fim',hparams['select']])\n",
    "\n",
    "fim_encoder = FIM_Encoder(hparams, vocab)\n",
    "sfi = SFI_gating(hparams, fim_encoder).to(hparams['device'])"
   ]
  },
  {
   "cell_type": "code",
   "execution_count": 5,
   "metadata": {},
   "outputs": [
    {
     "output_type": "stream",
     "name": "stderr",
     "text": [
      "[2021-03-22 16:37:07,704] INFO (root) training...\n",
      "epoch 1 , step 290 , loss: 1.5426: : 298it [00:15, 18.86it/s]\n",
      "[2021-03-22 16:37:24,276] INFO (root) saved model of epoch 1 at data/model_params/sfi-fim-gating/demo_epoch1_step0_[hs=50,topk=30].model\n",
      "[2021-03-22 16:37:24,313] INFO (root) evaluating...\n",
      "1815it [00:14, 121.08it/s]\n",
      "[2021-03-22 16:37:40,309] INFO (root) evaluation results:{'auc': 0.5585, 'mean_mrr': 0.2696, 'ndcg@5': 0.277, 'ndcg@10': 0.3449, 'epoch': 1, 'step': 0}\n"
     ]
    }
   ],
   "source": [
    "sfi = train(sfi, hparams, loaders, interval=10)"
   ]
  },
  {
   "cell_type": "code",
   "execution_count": null,
   "metadata": {},
   "outputs": [],
   "source": [
    "hparams['name'] = '-'.join([name,'nrms',hparams['select']])\n",
    "nrms_encoder = NRMS_Encoder(hparams, vocab)\n",
    "sfi = SFI_gating(hparams, nrms_encoder).to(hparams['device'])"
   ]
  },
  {
   "cell_type": "code",
   "execution_count": null,
   "metadata": {},
   "outputs": [],
   "source": [
    "sfi = train(sfi, hparams, loaders, interval=10)"
   ]
  },
  {
   "cell_type": "code",
   "execution_count": null,
   "metadata": {},
   "outputs": [],
   "source": [
    "hparams['name'] = '-'.join([name,'npa',hparams['select']])\n",
    "\n",
    "hparams['user_dim'] = 200\n",
    "hparams['query_dim'] = 200\n",
    "hparams['filter_num'] = 400\n",
    "\n",
    "npa_encoder = NPA_Encoder(hparams, vocab, len(loaders[0].dataset.uid2index))\n",
    "sfi = SFI_gating(hparams, npa_encoder).to(hparams['device'])"
   ]
  },
  {
   "cell_type": "code",
   "execution_count": null,
   "metadata": {},
   "outputs": [],
   "source": [
    "sfi = train(sfi, hparams, loaders, interval=10)"
   ]
  },
  {
   "cell_type": "code",
   "execution_count": null,
   "metadata": {},
   "outputs": [],
   "source": [
    "hparams['name'] = '-'.join([name,'pipeline',hparams['select']])\n",
    "\n",
    "hparams['pipeline'] = 'sfi-fim'\n",
    "# hparams['scale'] = 'large'\n",
    "\n",
    "ppl_encoder = Pipeline_Encoder(hparams)\n",
    "sfi = SFI_gating(hparams, ppl_encoder).to(hparams['device'])"
   ]
  },
  {
   "cell_type": "code",
   "execution_count": null,
   "metadata": {},
   "outputs": [],
   "source": [
    "sfi = train(sfi, hparams, loaders, interval=10)"
   ]
  },
  {
   "cell_type": "code",
   "execution_count": null,
   "metadata": {},
   "outputs": [],
   "source": [
    "hparams['name'] = '-'.join([name,'mha',hparams['select']])\n",
    "\n",
    "mha_encoder = MHA_Encoder(hparams, vocab)\n",
    "sfi = SFI_gating(hparams, mha_encoder).to(hparams['device'])"
   ]
  },
  {
   "cell_type": "code",
   "execution_count": null,
   "metadata": {},
   "outputs": [],
   "source": [
    "sfi = train(sfi, hparams, loaders, interval=10)"
   ]
  },
  {
   "cell_type": "code",
   "execution_count": null,
   "metadata": {},
   "outputs": [],
   "source": [
    "hparams['name'] = '-'.join([name,'bert',hparams['select']])\n",
    "\n",
    "hparams['level'] = 2\n",
    "# hparams['batch_size'] = 10\n",
    "# hparams['bert'] = 'bert-base-uncased'\n",
    "hparams['bert'] = 'albert-base-v2'\n",
    "\n",
    "_, loaders = prepare(hparams)"
   ]
  },
  {
   "cell_type": "code",
   "execution_count": null,
   "metadata": {},
   "outputs": [],
   "source": [
    "bert_encoder = Bert_Encoder(hparams)\n",
    "sfi = SFI_gating(hparams, bert_encoder).to(hparams['device'])"
   ]
  },
  {
   "cell_type": "code",
   "execution_count": null,
   "metadata": {},
   "outputs": [],
   "source": [
    "sfi = train(sfi, hparams, loaders, interval=10)"
   ]
  },
  {
   "source": [
    "## The rest is for development"
   ],
   "cell_type": "markdown",
   "metadata": {}
  },
  {
   "cell_type": "code",
   "execution_count": null,
   "metadata": {},
   "outputs": [],
   "source": [
    "record = next(iter(loaders[0]))"
   ]
  },
  {
   "cell_type": "code",
   "execution_count": null,
   "metadata": {},
   "outputs": [],
   "source": [
    "a = [1,2,3]\n",
    "a[-1]"
   ]
  },
  {
   "cell_type": "code",
   "execution_count": null,
   "metadata": {},
   "outputs": [],
   "source": [
    "from ipywidgets import IntProgress"
   ]
  },
  {
   "cell_type": "code",
   "execution_count": null,
   "metadata": {},
   "outputs": [],
   "source": []
  }
 ]
}