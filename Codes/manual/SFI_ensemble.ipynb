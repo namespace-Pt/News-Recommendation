{
 "cells": [
  {
   "cell_type": "code",
   "execution_count": 1,
   "metadata": {},
   "outputs": [],
   "source": [
    "import os\n",
    "import sys\n",
    "os.chdir('../')\n",
    "sys.path.append('../')\n",
    "\n",
    "import torch\n",
    "from utils.utils import train,prepare,evaluate,tune\n",
    "from models.Interactors import FIM_Interactor, KNRM_Interactor\n",
    "from models.Encoders.FIM import FIM_Encoder\n",
    "from models.NRMS import NRMS_MultiView\n",
    "from models.SFI import SFI_gating_MultiView,SFI_ensemble\n",
    "from configs.ManualConfig import hparams"
   ]
  },
  {
   "cell_type": "code",
   "execution_count": 2,
   "metadata": {},
   "outputs": [],
   "source": [
    "hparams['mode'] = 'dev'\n",
    "hparams['onehot'] = True\n",
    "hparams['k'] = 30\n",
    "hparams['ensemble'] = 'softmax'\n",
    "# hparams['device'] = 'cuda:0'"
   ]
  },
  {
   "cell_type": "code",
   "execution_count": 3,
   "metadata": {},
   "outputs": [
    {
     "name": "stderr",
     "output_type": "stream",
     "text": [
      "[2021-04-18 16:19:28,910] INFO (root) Hyper Parameters are\n",
      "{'scale': 'demo', 'mode': 'dev', 'batch_size': 10, 'title_size': 20, 'abs_size': 40, 'his_size': 50, 'vert_num': 18, 'subvert_num': 293, 'npratio': 4, 'dropout_p': 0.2, 'query_dim': 200, 'embedding_dim': 300, 'filter_num': 150, 'value_dim': 16, 'head_num': 16, 'epochs': 8, 'metrics': 'auc,mean_mrr,ndcg@5,ndcg@10', 'device': 'cpu', 'attrs': ['title'], 'k': 30, 'select': None, 'save_step': [0], 'news_id': False, 'validate': False, 'interval': 10, 'spadam': True, 'name': 'sfi-ensemble', 'onehot': True, 'ensemble': 'softmax'}\n",
      "[2021-04-18 16:19:28,912] INFO (root) preparing dataset...\n",
      "[2021-04-18 16:19:31,868] INFO (torchtext.vocab) Loading vectors from .vector_cache/glove.840B.300d.txt.pt\n"
     ]
    }
   ],
   "source": [
    "# hparams['validate'] = True\n",
    "vocab, loaders = prepare(hparams, pin_memory=False)"
   ]
  },
  {
   "cell_type": "code",
   "execution_count": 4,
   "metadata": {},
   "outputs": [],
   "source": [
    "record = next(iter(loaders[0]))"
   ]
  },
  {
   "cell_type": "code",
   "execution_count": 5,
   "metadata": {},
   "outputs": [
    {
     "name": "stderr",
     "output_type": "stream",
     "text": [
      "[2021-04-18 16:19:37,486] INFO (models.SFI) automatically adjust cdd_size of each model to 1\n"
     ]
    }
   ],
   "source": [
    "encoder = FIM_Encoder(hparams, vocab)\n",
    "interactor = FIM_Interactor()\n",
    "\n",
    "nrms = NRMS_MultiView(hparams, vocab).to(hparams['device'])\n",
    "sfi = SFI_gating_MultiView(hparams, encoder, interactor).to(hparams['device'])\n",
    "\n",
    "sfi_ensemble = SFI_ensemble(hparams, [sfi, nrms])"
   ]
  },
  {
   "cell_type": "code",
   "execution_count": 6,
   "metadata": {},
   "outputs": [
    {
     "data": {
      "text/plain": [
       "tensor([[0.4762],\n",
       "        [0.5852],\n",
       "        [0.6025],\n",
       "        [0.2844],\n",
       "        [0.5233],\n",
       "        [0.5901],\n",
       "        [0.5223],\n",
       "        [0.6681],\n",
       "        [0.6383],\n",
       "        [0.4943]], grad_fn=<SigmoidBackward>)"
      ]
     },
     "execution_count": 6,
     "metadata": {},
     "output_type": "execute_result"
    }
   ],
   "source": [
    "sfi(record)"
   ]
  },
  {
   "cell_type": "code",
   "execution_count": 7,
   "metadata": {},
   "outputs": [
    {
     "name": "stderr",
     "output_type": "stream",
     "text": [
      "[2021-04-18 16:19:37,883] INFO (root) this model is not inherited from nn.Module\n",
      "[2021-04-18 16:19:37,885] INFO (root) evaluating...\n",
      "  2%|▏         | 33/1812 [00:16<15:08,  1.96it/s]"
     ]
    }
   ],
   "source": [
    "evaluate(sfi_ensemble, hparams, loaders[0])"
   ]
  },
  {
   "cell_type": "code",
   "execution_count": null,
   "metadata": {},
   "outputs": [],
   "source": []
  }
 ],
 "metadata": {
  "kernelspec": {
   "display_name": "Python 3.8.5 64-bit ('nn': conda)",
   "name": "python38564bitnncondad67fb259925d4833a703b0467175fd55"
  },
  "language_info": {
   "name": "python",
   "version": ""
  },
  "metadata": {
   "interpreter": {
    "hash": "3eb98a31bb4fe483f921d6d3a56a708e0ea8295072fddff1b0a8d949ab7fd102"
   }
  },
  "orig_nbformat": 2
 },
 "nbformat": 4,
 "nbformat_minor": 2
}