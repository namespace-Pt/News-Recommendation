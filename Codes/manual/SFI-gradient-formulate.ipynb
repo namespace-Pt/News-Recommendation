{
 "metadata": {
  "language_info": {
   "codemirror_mode": {
    "name": "ipython",
    "version": 3
   },
   "file_extension": ".py",
   "mimetype": "text/x-python",
   "name": "python",
   "nbconvert_exporter": "python",
   "pygments_lexer": "ipython3",
   "version": "3.8.5"
  },
  "orig_nbformat": 2,
  "kernelspec": {
   "name": "python38564bitnncondad67fb259925d4833a703b0467175fd55",
   "display_name": "Python 3.8.5 64-bit ('nn': conda)"
  },
  "metadata": {
   "interpreter": {
    "hash": "3eb98a31bb4fe483f921d6d3a56a708e0ea8295072fddff1b0a8d949ab7fd102"
   }
  }
 },
 "nbformat": 4,
 "nbformat_minor": 2,
 "cells": [
  {
   "cell_type": "code",
   "execution_count": 6,
   "metadata": {},
   "outputs": [],
   "source": [
    "import torch\n",
    "import torch.nn as nn\n",
    "import torch.nn.functional as F"
   ]
  },
  {
   "cell_type": "code",
   "execution_count": 7,
   "metadata": {},
   "outputs": [],
   "source": [
    "m = 10\n",
    "d = 3\n",
    "s = 4\n",
    "k = 5\n",
    "gamma = 0"
   ]
  },
  {
   "cell_type": "code",
   "execution_count": 9,
   "metadata": {},
   "outputs": [],
   "source": [
    "X = torch.rand((m,d),requires_grad=True)\n",
    "y = torch.rand((1,d),requires_grad=True)\n",
    "U = torch.rand((m,s),requires_grad=True)\n",
    "W = torch.rand((d,d),requires_grad=True)\n",
    "X1 = X@W\n",
    "y1 = y@W\n",
    "X1.retain_grad()\n",
    "y1.retain_grad()\n",
    "\n",
    "z = X1.matmul(y1.T)\n",
    "z.retain_grad()\n",
    "\n",
    "z1,H = z.topk(k=k,dim=0)\n",
    "z1 = z1\n",
    "z1.retain_grad()\n",
    "H1 = F.one_hot(H.squeeze(dim=-1),num_classes=m).float()\n",
    "\n",
    "fz1 = nn.ReLU()(z1-gamma)\n",
    "fz1.retain_grad()\n",
    "\n",
    "z3 = fz1.expand(k,s).float().requires_grad_()\n",
    "z3.retain_grad()\n",
    "\n",
    "U = torch.rand((m,s),requires_grad=True)\n",
    "R = H1.matmul(U)\n",
    "R.retain_grad()\n",
    "\n",
    "R1 = R*z3\n",
    "R1.retain_grad()\n",
    "\n",
    "loss = (R1**2).sum()\n",
    "loss.backward()"
   ]
  },
  {
   "cell_type": "code",
   "execution_count": 10,
   "metadata": {},
   "outputs": [
    {
     "output_type": "execute_result",
     "data": {
      "text/plain": [
       "(tensor([[3.6804, 4.6247, 4.9408, 3.7853],\n",
       "         [5.1414, 4.8188, 0.2205, 3.6477],\n",
       "         [3.6515, 3.9962, 3.0998, 3.3756],\n",
       "         [1.5739, 4.1258, 0.2877, 3.1390],\n",
       "         [2.6154, 0.2699, 0.0204, 1.0984]], grad_fn=<MulBackward0>),\n",
       " tensor([[3.6804, 4.6247, 4.9408, 3.7853],\n",
       "         [5.1414, 4.8188, 0.2205, 3.6477],\n",
       "         [3.6515, 3.9962, 3.0998, 3.3756],\n",
       "         [1.5739, 4.1258, 0.2877, 3.1390],\n",
       "         [2.6154, 0.2699, 0.0204, 1.0984]]),\n",
       " tensor([[True, True, True, True],\n",
       "         [True, True, True, True],\n",
       "         [True, True, True, True],\n",
       "         [True, True, True, True],\n",
       "         [True, True, True, True]]))"
      ]
     },
     "metadata": {},
     "execution_count": 10
    }
   ],
   "source": [
    "dR1 = 2*R1\n",
    "dR1, R1.grad, dR1 == R1.grad"
   ]
  },
  {
   "cell_type": "code",
   "execution_count": 11,
   "metadata": {},
   "outputs": [
    {
     "output_type": "execute_result",
     "data": {
      "text/plain": [
       "(tensor([[10.3588, 13.0167, 13.9062, 10.6540],\n",
       "         [13.8420, 12.9733,  0.5935,  9.8206],\n",
       "         [ 9.4193, 10.3087,  7.9963,  8.7077],\n",
       "         [ 4.0429, 10.5980,  0.7391,  8.0633],\n",
       "         [ 6.2631,  0.6463,  0.0487,  2.6303]], grad_fn=<ViewBackward>),\n",
       " tensor([[10.3588, 13.0167, 13.9062, 10.6540],\n",
       "         [13.8420, 12.9733,  0.5935,  9.8206],\n",
       "         [ 9.4193, 10.3087,  7.9963,  8.7077],\n",
       "         [ 4.0429, 10.5980,  0.7391,  8.0633],\n",
       "         [ 6.2631,  0.6463,  0.0487,  2.6303]]),\n",
       " tensor([[True, True, True, True],\n",
       "         [True, True, True, True],\n",
       "         [True, True, True, True],\n",
       "         [True, True, True, True],\n",
       "         [True, True, True, True]]))"
      ]
     },
     "metadata": {},
     "execution_count": 11
    }
   ],
   "source": [
    "dR = dR1.view(1,k*s)@(z3.reshape(k*s).diag())\n",
    "dR = dR.view(k,s)\n",
    "dR, R.grad, dR == R.grad"
   ]
  },
  {
   "cell_type": "code",
   "execution_count": 12,
   "metadata": {},
   "outputs": [
    {
     "output_type": "execute_result",
     "data": {
      "text/plain": [
       "(tensor([[2.4063e+00, 3.7996e+00, 4.3366e+00, 2.5454e+00],\n",
       "         [4.9094e+00, 4.3125e+00, 9.0263e-03, 2.4712e+00],\n",
       "         [2.5843e+00, 3.0954e+00, 1.8624e+00, 2.2086e+00],\n",
       "         [4.8217e-01, 3.3133e+00, 1.6114e-02, 1.9180e+00],\n",
       "         [1.4283e+00, 1.5207e-02, 8.6469e-05, 2.5190e-01]],\n",
       "        grad_fn=<ViewBackward>),\n",
       " tensor([[2.4063e+00, 3.7996e+00, 4.3366e+00, 2.5454e+00],\n",
       "         [4.9094e+00, 4.3125e+00, 9.0263e-03, 2.4712e+00],\n",
       "         [2.5843e+00, 3.0954e+00, 1.8624e+00, 2.2086e+00],\n",
       "         [4.8217e-01, 3.3133e+00, 1.6114e-02, 1.9180e+00],\n",
       "         [1.4283e+00, 1.5207e-02, 8.6469e-05, 2.5190e-01]]),\n",
       " tensor([[True, True, True, True],\n",
       "         [True, True, True, True],\n",
       "         [True, True, True, True],\n",
       "         [True, True, True, True],\n",
       "         [True, True, True, True]]))"
      ]
     },
     "metadata": {},
     "execution_count": 12
    }
   ],
   "source": [
    "dz3 = dR1.view(1,k*s)@(R.reshape(k*s).diag())\n",
    "dz3 = dz3.view(k,s)\n",
    "dz3, z3.grad, dz3 == z3.grad"
   ]
  },
  {
   "cell_type": "code",
   "execution_count": 13,
   "metadata": {},
   "outputs": [
    {
     "output_type": "execute_result",
     "data": {
      "text/plain": [
       "(tensor([[13.0879],\n",
       "         [11.7021],\n",
       "         [ 9.7507],\n",
       "         [ 5.7295],\n",
       "         [ 1.6954]], grad_fn=<SumBackward1>),\n",
       " tensor([[13.0879],\n",
       "         [11.7021],\n",
       "         [ 9.7507],\n",
       "         [ 5.7295],\n",
       "         [ 1.6954]]),\n",
       " tensor([[True],\n",
       "         [True],\n",
       "         [True],\n",
       "         [True],\n",
       "         [True]]))"
      ]
     },
     "metadata": {},
     "execution_count": 13
    }
   ],
   "source": [
    "dfz1 = dz3.sum(dim=-1,keepdim=True)\n",
    "dfz1, fz1.grad, dfz1 == fz1.grad"
   ]
  },
  {
   "cell_type": "code",
   "execution_count": 14,
   "metadata": {},
   "outputs": [
    {
     "output_type": "execute_result",
     "data": {
      "text/plain": [
       "(tensor([[13.0879],\n",
       "         [11.7021],\n",
       "         [ 9.7507],\n",
       "         [ 5.7295],\n",
       "         [ 1.6954]], grad_fn=<MulBackward0>),\n",
       " tensor([[13.0879],\n",
       "         [11.7021],\n",
       "         [ 9.7507],\n",
       "         [ 5.7295],\n",
       "         [ 1.6954]]),\n",
       " tensor([[True],\n",
       "         [True],\n",
       "         [True],\n",
       "         [True],\n",
       "         [True]]))"
      ]
     },
     "metadata": {},
     "execution_count": 14
    }
   ],
   "source": [
    "dz1 = dfz1 * z1.masked_fill(z1 < gamma,0).masked_fill(z1>=gamma,1)\n",
    "dz1, z1.grad, dz1 == z1.grad"
   ]
  },
  {
   "cell_type": "code",
   "execution_count": 15,
   "metadata": {},
   "outputs": [
    {
     "output_type": "execute_result",
     "data": {
      "text/plain": [
       "(tensor([[ 0.0000],\n",
       "         [ 9.7507],\n",
       "         [ 5.7295],\n",
       "         [13.0879],\n",
       "         [ 0.0000],\n",
       "         [11.7021],\n",
       "         [ 0.0000],\n",
       "         [ 1.6954],\n",
       "         [ 0.0000],\n",
       "         [ 0.0000]], grad_fn=<MmBackward>),\n",
       " tensor([[ 0.0000],\n",
       "         [ 9.7507],\n",
       "         [ 5.7295],\n",
       "         [13.0879],\n",
       "         [ 0.0000],\n",
       "         [11.7021],\n",
       "         [ 0.0000],\n",
       "         [ 1.6954],\n",
       "         [ 0.0000],\n",
       "         [ 0.0000]]),\n",
       " tensor([[True],\n",
       "         [True],\n",
       "         [True],\n",
       "         [True],\n",
       "         [True],\n",
       "         [True],\n",
       "         [True],\n",
       "         [True],\n",
       "         [True],\n",
       "         [True]]))"
      ]
     },
     "metadata": {},
     "execution_count": 15
    }
   ],
   "source": [
    "dz = (H1.T)@dz1\n",
    "dz, z.grad, dz==z.grad"
   ]
  },
  {
   "cell_type": "code",
   "execution_count": 16,
   "metadata": {},
   "outputs": [
    {
     "output_type": "execute_result",
     "data": {
      "text/plain": [
       "(tensor([[ 0.0000,  0.0000,  0.0000],\n",
       "         [ 6.1413,  9.0546,  7.1276],\n",
       "         [ 3.6086,  5.3205,  4.1882],\n",
       "         [ 8.2431, 12.1535,  9.5670],\n",
       "         [ 0.0000,  0.0000,  0.0000],\n",
       "         [ 7.3703, 10.8666,  8.5540],\n",
       "         [ 0.0000,  0.0000,  0.0000],\n",
       "         [ 1.0678,  1.5744,  1.2393],\n",
       "         [ 0.0000,  0.0000,  0.0000],\n",
       "         [ 0.0000,  0.0000,  0.0000]], grad_fn=<MmBackward>),\n",
       " tensor([[ 0.0000,  0.0000,  0.0000],\n",
       "         [ 6.1413,  9.0546,  7.1276],\n",
       "         [ 3.6086,  5.3205,  4.1882],\n",
       "         [ 8.2431, 12.1535,  9.5670],\n",
       "         [ 0.0000,  0.0000,  0.0000],\n",
       "         [ 7.3703, 10.8666,  8.5540],\n",
       "         [ 0.0000,  0.0000,  0.0000],\n",
       "         [ 1.0678,  1.5744,  1.2393],\n",
       "         [ 0.0000,  0.0000,  0.0000],\n",
       "         [ 0.0000,  0.0000,  0.0000]]),\n",
       " tensor([[True, True, True],\n",
       "         [True, True, True],\n",
       "         [True, True, True],\n",
       "         [True, True, True],\n",
       "         [True, True, True],\n",
       "         [True, True, True],\n",
       "         [True, True, True],\n",
       "         [True, True, True],\n",
       "         [True, True, True],\n",
       "         [True, True, True]]))"
      ]
     },
     "metadata": {},
     "execution_count": 16
    }
   ],
   "source": [
    "dX1 = dz@y1\n",
    "dX1, X1.grad, dX1 == X1.grad"
   ]
  },
  {
   "cell_type": "code",
   "execution_count": 17,
   "metadata": {},
   "outputs": [
    {
     "output_type": "execute_result",
     "data": {
      "text/plain": [
       "(tensor([[41.7457, 58.3268, 43.5270]], grad_fn=<PermuteBackward>),\n",
       " tensor([[41.7457, 58.3268, 43.5270]]),\n",
       " tensor([[True, True, True]]))"
      ]
     },
     "metadata": {},
     "execution_count": 17
    }
   ],
   "source": [
    "dy1 = (X1.T@dz).T\n",
    "dy1, y1.grad, dy1==y1.grad"
   ]
  },
  {
   "cell_type": "code",
   "execution_count": 18,
   "metadata": {},
   "outputs": [
    {
     "output_type": "execute_result",
     "data": {
      "text/plain": [
       "(tensor([[51.2413, 73.0053, 55.5842],\n",
       "         [20.5465, 29.6704, 22.8945],\n",
       "         [35.6151, 51.3017, 39.4887]], grad_fn=<AddBackward0>),\n",
       " tensor([[51.2413, 73.0053, 55.5842],\n",
       "         [20.5465, 29.6704, 22.8945],\n",
       "         [35.6151, 51.3017, 39.4887]]),\n",
       " tensor([[True, True, True],\n",
       "         [True, True, True],\n",
       "         [True, True, True]]))"
      ]
     },
     "metadata": {},
     "execution_count": 18
    }
   ],
   "source": [
    "dW = X.T@dX1 + y.T@dy1\n",
    "dW, W.grad, dW == W.grad"
   ]
  },
  {
   "cell_type": "code",
   "execution_count": null,
   "metadata": {},
   "outputs": [],
   "source": []
  }
 ]
}